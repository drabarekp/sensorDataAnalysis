{
 "cells": [
  {
   "cell_type": "markdown",
   "source": [
    "# WEASEL+MUSE"
   ],
   "metadata": {
    "collapsed": false
   }
  },
  {
   "cell_type": "code",
   "execution_count": 1,
   "outputs": [],
   "source": [
    "import matplotlib.pyplot as plt\n",
    "import numpy as np\n",
    "import pandas as pd\n",
    "\n",
    "from ActivityDictionary import activities_names, person_all\n",
    "from pyts.multivariate.transformation import WEASELMUSE\n",
    "from sklearn.linear_model import LogisticRegression\n",
    "from sklearn.pipeline import make_pipeline\n",
    "from sklearn.preprocessing import LabelEncoder"
   ],
   "metadata": {
    "collapsed": false,
    "ExecuteTime": {
     "end_time": "2024-01-13T00:18:49.346721300Z",
     "start_time": "2024-01-13T00:18:47.733730800Z"
    }
   }
  },
  {
   "cell_type": "code",
   "execution_count": 2,
   "outputs": [],
   "source": [
    "def get_filename(person_number, activity_name):\n",
    "    return f'wristandthigh/0{person_number}_{activity_name}.csv'"
   ],
   "metadata": {
    "collapsed": false,
    "ExecuteTime": {
     "end_time": "2024-01-13T00:18:49.351236800Z",
     "start_time": "2024-01-13T00:18:49.348676500Z"
    }
   }
  },
  {
   "cell_type": "markdown",
   "source": [
    "Importowanie danych z plików CSV"
   ],
   "metadata": {
    "collapsed": false
   }
  },
  {
   "cell_type": "code",
   "execution_count": 3,
   "outputs": [],
   "source": [
    "data = []\n",
    "act_class = []\n",
    "for person in person_all:\n",
    "    for activity in activities_names:\n",
    "        path = get_filename(person, activity)\n",
    "        single_table = np.genfromtxt(path, delimiter=',')\n",
    "        single_table = single_table.transpose()\n",
    "        data.append(single_table)\n",
    "        act_class.append(activity)"
   ],
   "metadata": {
    "collapsed": false,
    "ExecuteTime": {
     "end_time": "2024-01-13T00:19:03.794248700Z",
     "start_time": "2024-01-13T00:18:49.353230300Z"
    }
   }
  },
  {
   "cell_type": "markdown",
   "source": [
    "Badanie długości próbek"
   ],
   "metadata": {
    "collapsed": false
   }
  },
  {
   "cell_type": "code",
   "execution_count": 4,
   "outputs": [
    {
     "name": "stdout",
     "output_type": "stream",
     "text": [
      "[5165, 5391, 5807, 5808, 5820, 5854, 6105, 6157, 6169, 6210, 6228, 6250, 6381, 6460, 6463, 6466, 6503, 6690, 6714, 6728, 6735, 6762, 6781, 6822, 6857, 6858, 6973, 7006, 7075, 7108, 7144, 7154, 7202, 7283, 7334, 7358, 7390, 7409, 7462, 7469, 7470, 7476, 7549, 7556, 7566, 7571, 7598, 7774, 7785, 7789, 7820, 7841, 7850, 7881, 8044, 8050, 8081, 8129, 8170, 8300, 8304, 8400, 8668, 8864, 9255, 9610, 11693, 12939, 13524, 15142, 15283, 15468, 15516, 15700, 15759, 15891, 16160, 16201, 16267, 16284, 16309, 16326, 16326, 16368, 16368, 16370, 16384, 16400, 16401, 16402, 16410, 16415, 16422, 16427, 16428, 16432, 16438, 16449, 16460, 16465, 16466, 16479, 16504, 16519, 16531, 16534, 16534, 16535, 16535, 16541, 16555, 16559, 16563, 16564, 16566, 16566, 16574, 16577, 16582, 16583, 16590, 16594, 16637, 16642, 16645, 16647, 16658, 16666, 16670, 16678, 16678, 16701, 16705, 16708, 16712, 16714, 16717, 16720, 16725, 16738, 16741, 16753, 16754, 16756, 16761, 16763, 16765, 16785, 16786, 16789, 16793, 16794, 16800, 16810, 16823, 16834, 16838, 16854, 16857, 16864, 16888, 16903, 16945, 16948, 16978, 17003, 17004, 17005, 17006, 17015, 17018, 17029, 17030, 17042, 17047, 17066, 17076, 17080, 17091, 17093, 17097, 17102, 17102, 17109, 17115, 17115, 17122, 17137, 17143, 17145, 17146, 17149, 17163, 17178, 17186, 17194, 17195, 17199, 17199, 17208, 17210, 17227, 17246, 17259, 17287, 17294, 17295, 17316, 17341, 17347, 17366, 17369, 17384, 17390, 17390, 17412, 17435, 17436, 17448, 17467, 17477, 17489, 17501, 17508, 17547, 17569, 17578, 17594, 17616, 17624, 17637, 17651, 17683, 17711, 17725, 17794, 17811, 17845, 17857, 17876, 17884, 17933, 17942, 17959, 17963, 17969, 18006, 18048, 18067, 18069, 18114, 18126, 18146, 18188, 18200, 18219, 18281, 18404, 18420, 18463, 18754, 18766, 18792, 18850, 18880, 18935, 19164, 19170, 19183, 19222, 19324, 19550, 19558, 19891, 20062, 20128, 20458, 20598, 20685, 20968, 22001, 22048, 22854, 27218, 27419, 27504, 27527, 27763, 28131, 28147, 28239, 28496, 29200, 29341, 29506, 29729, 29757]\n"
     ]
    }
   ],
   "source": [
    "lens = []\n",
    "for i in range(len(data)):\n",
    "    lens.append(data[i].shape[1])\n",
    "\n",
    "print(sorted(lens))"
   ],
   "metadata": {
    "collapsed": false,
    "ExecuteTime": {
     "end_time": "2024-01-13T00:19:03.796248600Z",
     "start_time": "2024-01-13T00:19:03.788551500Z"
    }
   }
  },
  {
   "cell_type": "markdown",
   "source": [
    "Ujednolicenie długości próbek \n",
    "(wybrano środkowe 50 sekund)"
   ],
   "metadata": {
    "collapsed": false
   }
  },
  {
   "cell_type": "code",
   "execution_count": 5,
   "outputs": [
    {
     "data": {
      "text/plain": "(297, 6, 5000)"
     },
     "execution_count": 5,
     "metadata": {},
     "output_type": "execute_result"
    }
   ],
   "source": [
    "df = []\n",
    "for i in range(len(data)):\n",
    "    start = int((lens[i] - 5000) / 2)\n",
    "    df.append(data[i][:, start:(start + 5000)])\n",
    "    # df.append(data[i][:, 0:5000])\n",
    "\n",
    "df = np.array(df)\n",
    "df.shape"
   ],
   "metadata": {
    "collapsed": false,
    "ExecuteTime": {
     "end_time": "2024-01-13T00:19:03.865134500Z",
     "start_time": "2024-01-13T00:19:03.796248600Z"
    }
   }
  },
  {
   "cell_type": "markdown",
   "source": [
    "Utworzenie zbiorów treningowego i testowego"
   ],
   "metadata": {
    "collapsed": false
   }
  },
  {
   "cell_type": "code",
   "execution_count": 6,
   "outputs": [
    {
     "name": "stdout",
     "output_type": "stream",
     "text": [
      "(243, 6, 5000)\n",
      "(54, 6, 5000)\n"
     ]
    }
   ],
   "source": [
    "X_train = df[:243]\n",
    "X_test = df[243:]\n",
    "y_train = act_class[:243]\n",
    "y_test = act_class[243:]\n",
    "\n",
    "print(X_train.shape)\n",
    "print(X_test.shape)"
   ],
   "metadata": {
    "collapsed": false,
    "ExecuteTime": {
     "end_time": "2024-01-13T00:19:03.867133Z",
     "start_time": "2024-01-13T00:19:03.826404500Z"
    }
   }
  },
  {
   "cell_type": "markdown",
   "source": [
    "Kodowanie aktywności za pomocą liczb całkowitych"
   ],
   "metadata": {
    "collapsed": false
   }
  },
  {
   "cell_type": "code",
   "execution_count": 7,
   "outputs": [
    {
     "name": "stdout",
     "output_type": "stream",
     "text": [
      "['downstairs' 'jogging' 'lying' 'sitting' 'standing' 'upstairs' 'walkfast'\n",
      " 'walkmod' 'walkslow']\n"
     ]
    }
   ],
   "source": [
    "le = LabelEncoder()\n",
    "le.fit(np.concatenate((y_train, y_test)))\n",
    "\n",
    "y_train = le.transform(y_train)\n",
    "y_test = le.transform(y_test)\n",
    "\n",
    "print(le.classes_)"
   ],
   "metadata": {
    "collapsed": false,
    "ExecuteTime": {
     "end_time": "2024-01-13T00:19:03.868133500Z",
     "start_time": "2024-01-13T00:19:03.830405Z"
    }
   }
  },
  {
   "cell_type": "markdown",
   "source": [
    "### Badanie odstępów między kolejnymi przedziałami okien (mała próbka)\n",
    "\n",
    "Poniżej przedstawiono działanie klasyfikatora WEASEL+MUSE (dwie możliwości implementacji)"
   ],
   "metadata": {
    "collapsed": false
   }
  },
  {
   "cell_type": "code",
   "execution_count": 22,
   "outputs": [
    {
     "ename": "ValueError",
     "evalue": "At least two consecutive quantiles are equal. Consider trying with a smaller number of bins or removing timestamps with low variation.",
     "output_type": "error",
     "traceback": [
      "\u001B[1;31m---------------------------------------------------------------------------\u001B[0m",
      "\u001B[1;31mValueError\u001B[0m                                Traceback (most recent call last)",
      "Cell \u001B[1;32mIn[22], line 16\u001B[0m\n\u001B[0;32m      5\u001B[0m WEASEL_classifier \u001B[38;5;241m=\u001B[39m LogisticRegression(solver\u001B[38;5;241m=\u001B[39m\u001B[38;5;124m'\u001B[39m\u001B[38;5;124mliblinear\u001B[39m\u001B[38;5;124m'\u001B[39m, multi_class\u001B[38;5;241m=\u001B[39m\u001B[38;5;124m'\u001B[39m\u001B[38;5;124movr\u001B[39m\u001B[38;5;124m'\u001B[39m)\n\u001B[0;32m      7\u001B[0m \u001B[38;5;66;03m# Construct and test a WEASEL+MUSE classifier\u001B[39;00m\n\u001B[0;32m      8\u001B[0m \u001B[38;5;66;03m# via pipeline\u001B[39;00m\n\u001B[0;32m      9\u001B[0m \n\u001B[1;32m   (...)\u001B[0m\n\u001B[0;32m     14\u001B[0m \n\u001B[0;32m     15\u001B[0m \u001B[38;5;66;03m# or manually\u001B[39;00m\n\u001B[1;32m---> 16\u001B[0m train_data \u001B[38;5;241m=\u001B[39m \u001B[43mWEASEL_transformer\u001B[49m\u001B[38;5;241;43m.\u001B[39;49m\u001B[43mfit_transform\u001B[49m\u001B[43m(\u001B[49m\u001B[43mX_train\u001B[49m\u001B[43m,\u001B[49m\u001B[43m \u001B[49m\u001B[43my_train\u001B[49m\u001B[43m)\u001B[49m\n\u001B[0;32m     17\u001B[0m WEASEL_classifier\u001B[38;5;241m.\u001B[39mfit(train_data, y_train)\n\u001B[0;32m     19\u001B[0m \u001B[38;5;28mprint\u001B[39m(train_data\u001B[38;5;241m.\u001B[39mshape)\n",
      "File \u001B[1;32m~\\Desktop\\PPD - Projekt\\sensorDataAnalysis\\env\\Lib\\site-packages\\pyts\\multivariate\\transformation\\weasel_muse.py:236\u001B[0m, in \u001B[0;36mWEASELMUSE.fit_transform\u001B[1;34m(self, X, y)\u001B[0m\n\u001B[0;32m    234\u001B[0m     \u001B[38;5;28mself\u001B[39m\u001B[38;5;241m.\u001B[39m_update_vocabulary(\u001B[38;5;28mstr\u001B[39m(i \u001B[38;5;241m+\u001B[39m \u001B[38;5;241m1\u001B[39m), transformer, original\u001B[38;5;241m=\u001B[39m\u001B[38;5;28;01mTrue\u001B[39;00m)\n\u001B[0;32m    235\u001B[0m \u001B[38;5;28;01mfor\u001B[39;00m i, transformer \u001B[38;5;129;01min\u001B[39;00m \u001B[38;5;28menumerate\u001B[39m(\u001B[38;5;28mself\u001B[39m\u001B[38;5;241m.\u001B[39m_estimators_diff):\n\u001B[1;32m--> 236\u001B[0m     X_new\u001B[38;5;241m.\u001B[39mappend(\u001B[43mtransformer\u001B[49m\u001B[38;5;241;43m.\u001B[39;49m\u001B[43mfit_transform\u001B[49m\u001B[43m(\u001B[49m\u001B[43mX_diff\u001B[49m\u001B[43m[\u001B[49m\u001B[43m:\u001B[49m\u001B[43m,\u001B[49m\u001B[43m \u001B[49m\u001B[43mi\u001B[49m\u001B[43m,\u001B[49m\u001B[43m \u001B[49m\u001B[43m:\u001B[49m\u001B[43m]\u001B[49m\u001B[43m,\u001B[49m\u001B[43m \u001B[49m\u001B[43my\u001B[49m\u001B[43m)\u001B[49m)\n\u001B[0;32m    237\u001B[0m     \u001B[38;5;28mself\u001B[39m\u001B[38;5;241m.\u001B[39m_update_vocabulary(\u001B[38;5;28mstr\u001B[39m(i \u001B[38;5;241m+\u001B[39m \u001B[38;5;241m1\u001B[39m), transformer, original\u001B[38;5;241m=\u001B[39m\u001B[38;5;28;01mFalse\u001B[39;00m)\n\u001B[0;32m    239\u001B[0m \u001B[38;5;28;01mif\u001B[39;00m \u001B[38;5;28mself\u001B[39m\u001B[38;5;241m.\u001B[39msparse:\n",
      "File \u001B[1;32m~\\Desktop\\PPD - Projekt\\sensorDataAnalysis\\env\\Lib\\site-packages\\pyts\\transformation\\weasel.py:280\u001B[0m, in \u001B[0;36mWEASEL.fit_transform\u001B[1;34m(self, X, y)\u001B[0m\n\u001B[0;32m    273\u001B[0m sfa \u001B[38;5;241m=\u001B[39m SymbolicFourierApproximation(\n\u001B[0;32m    274\u001B[0m     n_coefs\u001B[38;5;241m=\u001B[39m\u001B[38;5;28mself\u001B[39m\u001B[38;5;241m.\u001B[39mword_size, drop_sum\u001B[38;5;241m=\u001B[39m\u001B[38;5;28mself\u001B[39m\u001B[38;5;241m.\u001B[39mdrop_sum,\n\u001B[0;32m    275\u001B[0m     anova\u001B[38;5;241m=\u001B[39m\u001B[38;5;28mself\u001B[39m\u001B[38;5;241m.\u001B[39manova, norm_mean\u001B[38;5;241m=\u001B[39m\u001B[38;5;28mself\u001B[39m\u001B[38;5;241m.\u001B[39mnorm_mean,\n\u001B[0;32m    276\u001B[0m     norm_std\u001B[38;5;241m=\u001B[39m\u001B[38;5;28mself\u001B[39m\u001B[38;5;241m.\u001B[39mnorm_std, n_bins\u001B[38;5;241m=\u001B[39m\u001B[38;5;28mself\u001B[39m\u001B[38;5;241m.\u001B[39mn_bins,\n\u001B[0;32m    277\u001B[0m     strategy\u001B[38;5;241m=\u001B[39m\u001B[38;5;28mself\u001B[39m\u001B[38;5;241m.\u001B[39mstrategy, alphabet\u001B[38;5;241m=\u001B[39m\u001B[38;5;28mself\u001B[39m\u001B[38;5;241m.\u001B[39malphabet\n\u001B[0;32m    278\u001B[0m )\n\u001B[0;32m    279\u001B[0m y_repeated \u001B[38;5;241m=\u001B[39m np\u001B[38;5;241m.\u001B[39mrepeat(y, n_windows)\n\u001B[1;32m--> 280\u001B[0m X_sfa \u001B[38;5;241m=\u001B[39m \u001B[43msfa\u001B[49m\u001B[38;5;241;43m.\u001B[39;49m\u001B[43mfit_transform\u001B[49m\u001B[43m(\u001B[49m\u001B[43mX_windowed\u001B[49m\u001B[43m,\u001B[49m\u001B[43m \u001B[49m\u001B[43my_repeated\u001B[49m\u001B[43m)\u001B[49m\n\u001B[0;32m    282\u001B[0m X_word \u001B[38;5;241m=\u001B[39m np\u001B[38;5;241m.\u001B[39masarray([\u001B[38;5;124m'\u001B[39m\u001B[38;5;124m'\u001B[39m\u001B[38;5;241m.\u001B[39mjoin(X_sfa[i])\n\u001B[0;32m    283\u001B[0m                      \u001B[38;5;28;01mfor\u001B[39;00m i \u001B[38;5;129;01min\u001B[39;00m \u001B[38;5;28mrange\u001B[39m(n_samples \u001B[38;5;241m*\u001B[39m n_windows)])\n\u001B[0;32m    284\u001B[0m X_word \u001B[38;5;241m=\u001B[39m X_word\u001B[38;5;241m.\u001B[39mreshape(n_samples, n_windows)\n",
      "File \u001B[1;32m~\\Desktop\\PPD - Projekt\\sensorDataAnalysis\\env\\Lib\\site-packages\\pyts\\approximation\\sfa.py:173\u001B[0m, in \u001B[0;36mSymbolicFourierApproximation.fit_transform\u001B[1;34m(self, X, y)\u001B[0m\n\u001B[0;32m    169\u001B[0m mcb \u001B[38;5;241m=\u001B[39m MultipleCoefficientBinning(\n\u001B[0;32m    170\u001B[0m     n_bins\u001B[38;5;241m=\u001B[39m\u001B[38;5;28mself\u001B[39m\u001B[38;5;241m.\u001B[39mn_bins, strategy\u001B[38;5;241m=\u001B[39m\u001B[38;5;28mself\u001B[39m\u001B[38;5;241m.\u001B[39mstrategy, alphabet\u001B[38;5;241m=\u001B[39m\u001B[38;5;28mself\u001B[39m\u001B[38;5;241m.\u001B[39malphabet\n\u001B[0;32m    171\u001B[0m )\n\u001B[0;32m    172\u001B[0m \u001B[38;5;28mself\u001B[39m\u001B[38;5;241m.\u001B[39m_pipeline \u001B[38;5;241m=\u001B[39m Pipeline([(\u001B[38;5;124m'\u001B[39m\u001B[38;5;124mdft\u001B[39m\u001B[38;5;124m'\u001B[39m, dft), (\u001B[38;5;124m'\u001B[39m\u001B[38;5;124mmcb\u001B[39m\u001B[38;5;124m'\u001B[39m, mcb)])\n\u001B[1;32m--> 173\u001B[0m X_sfa \u001B[38;5;241m=\u001B[39m \u001B[38;5;28;43mself\u001B[39;49m\u001B[38;5;241;43m.\u001B[39;49m\u001B[43m_pipeline\u001B[49m\u001B[38;5;241;43m.\u001B[39;49m\u001B[43mfit_transform\u001B[49m\u001B[43m(\u001B[49m\u001B[43mX\u001B[49m\u001B[43m,\u001B[49m\u001B[43m \u001B[49m\u001B[43my\u001B[49m\u001B[43m)\u001B[49m\n\u001B[0;32m    174\u001B[0m \u001B[38;5;28mself\u001B[39m\u001B[38;5;241m.\u001B[39msupport_ \u001B[38;5;241m=\u001B[39m \u001B[38;5;28mself\u001B[39m\u001B[38;5;241m.\u001B[39m_pipeline\u001B[38;5;241m.\u001B[39mnamed_steps[\u001B[38;5;124m'\u001B[39m\u001B[38;5;124mdft\u001B[39m\u001B[38;5;124m'\u001B[39m]\u001B[38;5;241m.\u001B[39msupport_\n\u001B[0;32m    175\u001B[0m \u001B[38;5;28mself\u001B[39m\u001B[38;5;241m.\u001B[39mbin_edges_ \u001B[38;5;241m=\u001B[39m \u001B[38;5;28mself\u001B[39m\u001B[38;5;241m.\u001B[39m_pipeline\u001B[38;5;241m.\u001B[39mnamed_steps[\u001B[38;5;124m'\u001B[39m\u001B[38;5;124mmcb\u001B[39m\u001B[38;5;124m'\u001B[39m]\u001B[38;5;241m.\u001B[39mbin_edges_\n",
      "File \u001B[1;32m~\\Desktop\\PPD - Projekt\\sensorDataAnalysis\\env\\Lib\\site-packages\\sklearn\\base.py:1152\u001B[0m, in \u001B[0;36m_fit_context.<locals>.decorator.<locals>.wrapper\u001B[1;34m(estimator, *args, **kwargs)\u001B[0m\n\u001B[0;32m   1145\u001B[0m     estimator\u001B[38;5;241m.\u001B[39m_validate_params()\n\u001B[0;32m   1147\u001B[0m \u001B[38;5;28;01mwith\u001B[39;00m config_context(\n\u001B[0;32m   1148\u001B[0m     skip_parameter_validation\u001B[38;5;241m=\u001B[39m(\n\u001B[0;32m   1149\u001B[0m         prefer_skip_nested_validation \u001B[38;5;129;01mor\u001B[39;00m global_skip_validation\n\u001B[0;32m   1150\u001B[0m     )\n\u001B[0;32m   1151\u001B[0m ):\n\u001B[1;32m-> 1152\u001B[0m     \u001B[38;5;28;01mreturn\u001B[39;00m \u001B[43mfit_method\u001B[49m\u001B[43m(\u001B[49m\u001B[43mestimator\u001B[49m\u001B[43m,\u001B[49m\u001B[43m \u001B[49m\u001B[38;5;241;43m*\u001B[39;49m\u001B[43margs\u001B[49m\u001B[43m,\u001B[49m\u001B[43m \u001B[49m\u001B[38;5;241;43m*\u001B[39;49m\u001B[38;5;241;43m*\u001B[39;49m\u001B[43mkwargs\u001B[49m\u001B[43m)\u001B[49m\n",
      "File \u001B[1;32m~\\Desktop\\PPD - Projekt\\sensorDataAnalysis\\env\\Lib\\site-packages\\sklearn\\pipeline.py:479\u001B[0m, in \u001B[0;36mPipeline.fit_transform\u001B[1;34m(self, X, y, **fit_params)\u001B[0m\n\u001B[0;32m    477\u001B[0m fit_params_last_step \u001B[38;5;241m=\u001B[39m fit_params_steps[\u001B[38;5;28mself\u001B[39m\u001B[38;5;241m.\u001B[39msteps[\u001B[38;5;241m-\u001B[39m\u001B[38;5;241m1\u001B[39m][\u001B[38;5;241m0\u001B[39m]]\n\u001B[0;32m    478\u001B[0m \u001B[38;5;28;01mif\u001B[39;00m \u001B[38;5;28mhasattr\u001B[39m(last_step, \u001B[38;5;124m\"\u001B[39m\u001B[38;5;124mfit_transform\u001B[39m\u001B[38;5;124m\"\u001B[39m):\n\u001B[1;32m--> 479\u001B[0m     \u001B[38;5;28;01mreturn\u001B[39;00m \u001B[43mlast_step\u001B[49m\u001B[38;5;241;43m.\u001B[39;49m\u001B[43mfit_transform\u001B[49m\u001B[43m(\u001B[49m\u001B[43mXt\u001B[49m\u001B[43m,\u001B[49m\u001B[43m \u001B[49m\u001B[43my\u001B[49m\u001B[43m,\u001B[49m\u001B[43m \u001B[49m\u001B[38;5;241;43m*\u001B[39;49m\u001B[38;5;241;43m*\u001B[39;49m\u001B[43mfit_params_last_step\u001B[49m\u001B[43m)\u001B[49m\n\u001B[0;32m    480\u001B[0m \u001B[38;5;28;01melse\u001B[39;00m:\n\u001B[0;32m    481\u001B[0m     \u001B[38;5;28;01mreturn\u001B[39;00m last_step\u001B[38;5;241m.\u001B[39mfit(Xt, y, \u001B[38;5;241m*\u001B[39m\u001B[38;5;241m*\u001B[39mfit_params_last_step)\u001B[38;5;241m.\u001B[39mtransform(Xt)\n",
      "File \u001B[1;32m~\\Desktop\\PPD - Projekt\\sensorDataAnalysis\\env\\Lib\\site-packages\\pyts\\base.py:40\u001B[0m, in \u001B[0;36mUnivariateTransformerMixin.fit_transform\u001B[1;34m(self, X, y, **fit_params)\u001B[0m\n\u001B[0;32m     37\u001B[0m     \u001B[38;5;28;01mreturn\u001B[39;00m \u001B[38;5;28mself\u001B[39m\u001B[38;5;241m.\u001B[39mfit(X, \u001B[38;5;241m*\u001B[39m\u001B[38;5;241m*\u001B[39mfit_params)\u001B[38;5;241m.\u001B[39mtransform(X)\n\u001B[0;32m     38\u001B[0m \u001B[38;5;28;01melse\u001B[39;00m:\n\u001B[0;32m     39\u001B[0m     \u001B[38;5;66;03m# fit method of arity 2 (supervised transformation)\u001B[39;00m\n\u001B[1;32m---> 40\u001B[0m     \u001B[38;5;28;01mreturn\u001B[39;00m \u001B[38;5;28;43mself\u001B[39;49m\u001B[38;5;241;43m.\u001B[39;49m\u001B[43mfit\u001B[49m\u001B[43m(\u001B[49m\u001B[43mX\u001B[49m\u001B[43m,\u001B[49m\u001B[43m \u001B[49m\u001B[43my\u001B[49m\u001B[43m,\u001B[49m\u001B[43m \u001B[49m\u001B[38;5;241;43m*\u001B[39;49m\u001B[38;5;241;43m*\u001B[39;49m\u001B[43mfit_params\u001B[49m\u001B[43m)\u001B[49m\u001B[38;5;241m.\u001B[39mtransform(X)\n",
      "File \u001B[1;32m~\\Desktop\\PPD - Projekt\\sensorDataAnalysis\\env\\Lib\\site-packages\\pyts\\approximation\\mcb.py:131\u001B[0m, in \u001B[0;36mMultipleCoefficientBinning.fit\u001B[1;34m(self, X, y)\u001B[0m\n\u001B[0;32m    129\u001B[0m \u001B[38;5;28mself\u001B[39m\u001B[38;5;241m.\u001B[39m_alphabet \u001B[38;5;241m=\u001B[39m \u001B[38;5;28mself\u001B[39m\u001B[38;5;241m.\u001B[39m_check_params(n_samples)\n\u001B[0;32m    130\u001B[0m \u001B[38;5;28mself\u001B[39m\u001B[38;5;241m.\u001B[39m_check_constant(X)\n\u001B[1;32m--> 131\u001B[0m \u001B[38;5;28mself\u001B[39m\u001B[38;5;241m.\u001B[39mbin_edges_ \u001B[38;5;241m=\u001B[39m \u001B[38;5;28;43mself\u001B[39;49m\u001B[38;5;241;43m.\u001B[39;49m\u001B[43m_compute_bins\u001B[49m\u001B[43m(\u001B[49m\n\u001B[0;32m    132\u001B[0m \u001B[43m    \u001B[49m\u001B[43mX\u001B[49m\u001B[43m,\u001B[49m\u001B[43m \u001B[49m\u001B[43my\u001B[49m\u001B[43m,\u001B[49m\u001B[43m \u001B[49m\u001B[43mn_timestamps\u001B[49m\u001B[43m,\u001B[49m\u001B[43m \u001B[49m\u001B[38;5;28;43mself\u001B[39;49m\u001B[38;5;241;43m.\u001B[39;49m\u001B[43mn_bins\u001B[49m\u001B[43m,\u001B[49m\u001B[43m \u001B[49m\u001B[38;5;28;43mself\u001B[39;49m\u001B[38;5;241;43m.\u001B[39;49m\u001B[43mstrategy\u001B[49m\u001B[43m)\u001B[49m\n\u001B[0;32m    133\u001B[0m \u001B[38;5;28;01mreturn\u001B[39;00m \u001B[38;5;28mself\u001B[39m\n",
      "File \u001B[1;32m~\\Desktop\\PPD - Projekt\\sensorDataAnalysis\\env\\Lib\\site-packages\\pyts\\approximation\\mcb.py:211\u001B[0m, in \u001B[0;36mMultipleCoefficientBinning._compute_bins\u001B[1;34m(self, X, y, n_timestamps, n_bins, strategy)\u001B[0m\n\u001B[0;32m    207\u001B[0m     bins_edges \u001B[38;5;241m=\u001B[39m np\u001B[38;5;241m.\u001B[39mpercentile(\n\u001B[0;32m    208\u001B[0m         X, np\u001B[38;5;241m.\u001B[39mlinspace(\u001B[38;5;241m0\u001B[39m, \u001B[38;5;241m100\u001B[39m, \u001B[38;5;28mself\u001B[39m\u001B[38;5;241m.\u001B[39mn_bins \u001B[38;5;241m+\u001B[39m \u001B[38;5;241m1\u001B[39m)[\u001B[38;5;241m1\u001B[39m:\u001B[38;5;241m-\u001B[39m\u001B[38;5;241m1\u001B[39m], axis\u001B[38;5;241m=\u001B[39m\u001B[38;5;241m0\u001B[39m\n\u001B[0;32m    209\u001B[0m     )\u001B[38;5;241m.\u001B[39mT\n\u001B[0;32m    210\u001B[0m     \u001B[38;5;28;01mif\u001B[39;00m np\u001B[38;5;241m.\u001B[39many(np\u001B[38;5;241m.\u001B[39mdiff(bins_edges, axis\u001B[38;5;241m=\u001B[39m\u001B[38;5;241m0\u001B[39m) \u001B[38;5;241m==\u001B[39m \u001B[38;5;241m0\u001B[39m):\n\u001B[1;32m--> 211\u001B[0m         \u001B[38;5;28;01mraise\u001B[39;00m \u001B[38;5;167;01mValueError\u001B[39;00m(\n\u001B[0;32m    212\u001B[0m             \u001B[38;5;124m\"\u001B[39m\u001B[38;5;124mAt least two consecutive quantiles are equal. \u001B[39m\u001B[38;5;124m\"\u001B[39m\n\u001B[0;32m    213\u001B[0m             \u001B[38;5;124m\"\u001B[39m\u001B[38;5;124mConsider trying with a smaller number of bins or \u001B[39m\u001B[38;5;124m\"\u001B[39m\n\u001B[0;32m    214\u001B[0m             \u001B[38;5;124m\"\u001B[39m\u001B[38;5;124mremoving timestamps with low variation.\u001B[39m\u001B[38;5;124m\"\u001B[39m\n\u001B[0;32m    215\u001B[0m         )\n\u001B[0;32m    216\u001B[0m \u001B[38;5;28;01melse\u001B[39;00m:\n\u001B[0;32m    217\u001B[0m     bins_edges \u001B[38;5;241m=\u001B[39m \u001B[38;5;28mself\u001B[39m\u001B[38;5;241m.\u001B[39m_entropy_bins(X, y, n_timestamps, n_bins)\n",
      "\u001B[1;31mValueError\u001B[0m: At least two consecutive quantiles are equal. Consider trying with a smaller number of bins or removing timestamps with low variation."
     ]
    }
   ],
   "source": [
    "WEASEL_transformer = WEASELMUSE(word_size=4, n_bins=3, window_sizes=[5, 6, 7, 8, 9],\n",
    "                                anova=True, drop_sum=True,\n",
    "                                # norm_std=True, (ANOVA alphabet size)\n",
    "                                chi2_threshold=2, sparse=False)\n",
    "WEASEL_classifier = LogisticRegression(solver='liblinear', multi_class='ovr')\n",
    "\n",
    "# Construct and test a WEASEL+MUSE classifier\n",
    "# via pipeline\n",
    "\n",
    "# clf = make_pipeline(WEASEL_transformer, WEASEL_classifier)\n",
    "# clf.fit(X_train, y_train)\n",
    "# clf_score = clf.score(X_test, y_test)\n",
    "# print(clf_score)\n",
    "\n",
    "# or manually\n",
    "train_data = WEASEL_transformer.fit_transform(X_train, y_train)\n",
    "WEASEL_classifier.fit(train_data, y_train)\n",
    "\n",
    "print(train_data.shape)\n",
    "print(len(WEASEL_transformer.vocabulary_))\n",
    "\n",
    "test_data = WEASEL_transformer.transform(X_test)\n",
    "print(WEASEL_classifier.score(test_data, y_test))"
   ],
   "metadata": {
    "collapsed": false,
    "ExecuteTime": {
     "end_time": "2023-12-22T02:04:56.933159Z",
     "start_time": "2023-12-22T02:04:26.693671900Z"
    }
   }
  },
  {
   "cell_type": "markdown",
   "source": [
    "(Otrzymane podciągi były zbyt podobne do siebie, aby rozdzielić wartości transformaty Fouriera na grupy.)"
   ],
   "metadata": {
    "collapsed": false
   }
  },
  {
   "cell_type": "code",
   "execution_count": 23,
   "outputs": [
    {
     "name": "stdout",
     "output_type": "stream",
     "text": [
      "(243, 363371)\n",
      "363371\n",
      "0.8148148148148148\n"
     ]
    }
   ],
   "source": [
    "WEASEL_transformer = WEASELMUSE(word_size=4, n_bins=3, window_sizes=[5, 15, 25, 35, 45],\n",
    "                                anova=True, drop_sum=True,\n",
    "                                chi2_threshold=2, sparse=False)\n",
    "WEASEL_classifier = LogisticRegression(solver='liblinear', multi_class='ovr')\n",
    "\n",
    "train_data = WEASEL_transformer.fit_transform(X_train, y_train)\n",
    "WEASEL_classifier.fit(train_data, y_train)\n",
    "\n",
    "print(train_data.shape)\n",
    "print(len(WEASEL_transformer.vocabulary_))\n",
    "\n",
    "test_data = WEASEL_transformer.transform(X_test)\n",
    "print(WEASEL_classifier.score(test_data, y_test))"
   ],
   "metadata": {
    "collapsed": false,
    "ExecuteTime": {
     "end_time": "2023-12-22T02:06:26.325652300Z",
     "start_time": "2023-12-22T02:05:48.481840400Z"
    }
   }
  },
  {
   "cell_type": "code",
   "execution_count": 24,
   "outputs": [
    {
     "name": "stdout",
     "output_type": "stream",
     "text": [
      "(243, 216558)\n",
      "216558\n",
      "0.7777777777777778\n"
     ]
    }
   ],
   "source": [
    "WEASEL_transformer = WEASELMUSE(word_size=4, n_bins=3, window_sizes=[5, 25, 125, 625, 3125],\n",
    "                                anova=True, drop_sum=True,\n",
    "                                chi2_threshold=2, sparse=False)\n",
    "WEASEL_classifier = LogisticRegression(solver='liblinear', multi_class='ovr')\n",
    "\n",
    "train_data = WEASEL_transformer.fit_transform(X_train, y_train)\n",
    "WEASEL_classifier.fit(train_data, y_train)\n",
    "\n",
    "print(train_data.shape)\n",
    "print(len(WEASEL_transformer.vocabulary_))\n",
    "\n",
    "test_data = WEASEL_transformer.transform(X_test)\n",
    "print(WEASEL_classifier.score(test_data, y_test))"
   ],
   "metadata": {
    "collapsed": false,
    "ExecuteTime": {
     "end_time": "2023-12-22T02:06:56.066301300Z",
     "start_time": "2023-12-22T02:06:29.631693600Z"
    }
   }
  },
  {
   "cell_type": "markdown",
   "source": [
    "### Badanie odstępów między kolejnymi przedziałami okien (duża próbka)"
   ],
   "metadata": {
    "collapsed": false
   }
  },
  {
   "cell_type": "code",
   "execution_count": 159,
   "outputs": [
    {
     "name": "stdout",
     "output_type": "stream",
     "text": [
      "(243, 5950539)\n",
      "5950539\n",
      "0.8518518518518519\n"
     ]
    }
   ],
   "source": [
    "WEASEL_transformer = WEASELMUSE(word_size=4, n_bins=3, window_sizes=[i for i in range(5, 225, 2)], \n",
    "                                chi2_threshold=2, sparse=False)\n",
    "WEASEL_classifier = LogisticRegression(solver='liblinear', multi_class='ovr')\n",
    "\n",
    "train_data = WEASEL_transformer.fit_transform(X_train, y_train)\n",
    "WEASEL_classifier.fit(train_data, y_train)\n",
    "\n",
    "print(train_data.shape)\n",
    "print(len(WEASEL_transformer.vocabulary_))\n",
    "\n",
    "test_data = WEASEL_transformer.transform(X_test)\n",
    "print(WEASEL_classifier.score(test_data, y_test))"
   ],
   "metadata": {
    "collapsed": false,
    "ExecuteTime": {
     "end_time": "2023-12-22T00:03:00.364778500Z",
     "start_time": "2023-12-21T23:52:20.637772300Z"
    }
   }
  },
  {
   "cell_type": "code",
   "execution_count": 160,
   "outputs": [
    {
     "name": "stdout",
     "output_type": "stream",
     "text": [
      "(243, 3317179)\n",
      "3317179\n",
      "0.8703703703703703\n"
     ]
    }
   ],
   "source": [
    "WEASEL_transformer = WEASELMUSE(word_size=4, n_bins=3, window_sizes=[i for i in range(5, 1000, 8)],\n",
    "                                chi2_threshold=2, sparse=False)\n",
    "WEASEL_classifier = LogisticRegression(solver='liblinear', multi_class='ovr')\n",
    "\n",
    "train_data = WEASEL_transformer.fit_transform(X_train, y_train)\n",
    "WEASEL_classifier.fit(train_data, y_train)\n",
    "\n",
    "print(train_data.shape)\n",
    "print(len(WEASEL_transformer.vocabulary_))\n",
    "\n",
    "test_data = WEASEL_transformer.transform(X_test)\n",
    "print(WEASEL_classifier.score(test_data, y_test))"
   ],
   "metadata": {
    "collapsed": false,
    "ExecuteTime": {
     "end_time": "2023-12-22T00:10:54.818933300Z",
     "start_time": "2023-12-22T00:06:14.210888700Z"
    }
   }
  },
  {
   "cell_type": "code",
   "execution_count": 161,
   "outputs": [
    {
     "name": "stdout",
     "output_type": "stream",
     "text": [
      "(243, 835832)\n",
      "835832\n",
      "0.7592592592592593\n"
     ]
    }
   ],
   "source": [
    "WEASEL_transformer = WEASELMUSE(word_size=4, n_bins=3, window_sizes=[i for i in range(5, 5000, 45)],\n",
    "                                chi2_threshold=2, sparse=False)\n",
    "WEASEL_classifier = LogisticRegression(solver='liblinear', multi_class='ovr')\n",
    "\n",
    "train_data = WEASEL_transformer.fit_transform(X_train, y_train)\n",
    "WEASEL_classifier.fit(train_data, y_train)\n",
    "\n",
    "print(train_data.shape)\n",
    "print(len(WEASEL_transformer.vocabulary_))\n",
    "\n",
    "test_data = WEASEL_transformer.transform(X_test)\n",
    "print(WEASEL_classifier.score(test_data, y_test))"
   ],
   "metadata": {
    "collapsed": false,
    "ExecuteTime": {
     "end_time": "2023-12-22T00:12:50.887929900Z",
     "start_time": "2023-12-22T00:10:55.102218500Z"
    }
   }
  },
  {
   "cell_type": "markdown",
   "source": [
    "### Badanie konfiguracji transformera\n",
    "\n",
    "Poniżej widoczny jest problem wynikający z małej liczby próbek względem ich długości"
   ],
   "metadata": {
    "collapsed": false
   }
  },
  {
   "cell_type": "code",
   "execution_count": 154,
   "outputs": [
    {
     "ename": "ValueError",
     "evalue": "At least two consecutive quantiles are equal. Consider trying with a smaller number of bins or removing timestamps with low variation.",
     "output_type": "error",
     "traceback": [
      "\u001B[1;31m---------------------------------------------------------------------------\u001B[0m",
      "\u001B[1;31mValueError\u001B[0m                                Traceback (most recent call last)",
      "Cell \u001B[1;32mIn[154], line 17\u001B[0m\n\u001B[0;32m      6\u001B[0m WEASEL_classifier \u001B[38;5;241m=\u001B[39m LogisticRegression(solver\u001B[38;5;241m=\u001B[39m\u001B[38;5;124m'\u001B[39m\u001B[38;5;124mliblinear\u001B[39m\u001B[38;5;124m'\u001B[39m, multi_class\u001B[38;5;241m=\u001B[39m\u001B[38;5;124m'\u001B[39m\u001B[38;5;124movr\u001B[39m\u001B[38;5;124m'\u001B[39m)\n\u001B[0;32m      8\u001B[0m \u001B[38;5;66;03m# Construct and test a WEASEL+MUSE classifier\u001B[39;00m\n\u001B[0;32m      9\u001B[0m \u001B[38;5;66;03m# via pipeline\u001B[39;00m\n\u001B[0;32m     10\u001B[0m \n\u001B[1;32m   (...)\u001B[0m\n\u001B[0;32m     15\u001B[0m \n\u001B[0;32m     16\u001B[0m \u001B[38;5;66;03m# or manually\u001B[39;00m\n\u001B[1;32m---> 17\u001B[0m train_data \u001B[38;5;241m=\u001B[39m \u001B[43mWEASEL_transformer\u001B[49m\u001B[38;5;241;43m.\u001B[39;49m\u001B[43mfit_transform\u001B[49m\u001B[43m(\u001B[49m\u001B[43mX_train\u001B[49m\u001B[43m,\u001B[49m\u001B[43m \u001B[49m\u001B[43my_train\u001B[49m\u001B[43m)\u001B[49m\n\u001B[0;32m     18\u001B[0m WEASEL_classifier\u001B[38;5;241m.\u001B[39mfit(train_data, y_train)\n\u001B[0;32m     20\u001B[0m \u001B[38;5;28mprint\u001B[39m(train_data\u001B[38;5;241m.\u001B[39mshape)\n",
      "File \u001B[1;32m~\\Desktop\\PPD - Projekt\\sensorDataAnalysis\\env\\Lib\\site-packages\\pyts\\multivariate\\transformation\\weasel_muse.py:233\u001B[0m, in \u001B[0;36mWEASELMUSE.fit_transform\u001B[1;34m(self, X, y)\u001B[0m\n\u001B[0;32m    231\u001B[0m X_new \u001B[38;5;241m=\u001B[39m []\n\u001B[0;32m    232\u001B[0m \u001B[38;5;28;01mfor\u001B[39;00m i, transformer \u001B[38;5;129;01min\u001B[39;00m \u001B[38;5;28menumerate\u001B[39m(\u001B[38;5;28mself\u001B[39m\u001B[38;5;241m.\u001B[39m_estimators):\n\u001B[1;32m--> 233\u001B[0m     X_new\u001B[38;5;241m.\u001B[39mappend(\u001B[43mtransformer\u001B[49m\u001B[38;5;241;43m.\u001B[39;49m\u001B[43mfit_transform\u001B[49m\u001B[43m(\u001B[49m\u001B[43mX\u001B[49m\u001B[43m[\u001B[49m\u001B[43m:\u001B[49m\u001B[43m,\u001B[49m\u001B[43m \u001B[49m\u001B[43mi\u001B[49m\u001B[43m,\u001B[49m\u001B[43m \u001B[49m\u001B[43m:\u001B[49m\u001B[43m]\u001B[49m\u001B[43m,\u001B[49m\u001B[43m \u001B[49m\u001B[43my\u001B[49m\u001B[43m)\u001B[49m)\n\u001B[0;32m    234\u001B[0m     \u001B[38;5;28mself\u001B[39m\u001B[38;5;241m.\u001B[39m_update_vocabulary(\u001B[38;5;28mstr\u001B[39m(i \u001B[38;5;241m+\u001B[39m \u001B[38;5;241m1\u001B[39m), transformer, original\u001B[38;5;241m=\u001B[39m\u001B[38;5;28;01mTrue\u001B[39;00m)\n\u001B[0;32m    235\u001B[0m \u001B[38;5;28;01mfor\u001B[39;00m i, transformer \u001B[38;5;129;01min\u001B[39;00m \u001B[38;5;28menumerate\u001B[39m(\u001B[38;5;28mself\u001B[39m\u001B[38;5;241m.\u001B[39m_estimators_diff):\n",
      "File \u001B[1;32m~\\Desktop\\PPD - Projekt\\sensorDataAnalysis\\env\\Lib\\site-packages\\pyts\\transformation\\weasel.py:280\u001B[0m, in \u001B[0;36mWEASEL.fit_transform\u001B[1;34m(self, X, y)\u001B[0m\n\u001B[0;32m    273\u001B[0m sfa \u001B[38;5;241m=\u001B[39m SymbolicFourierApproximation(\n\u001B[0;32m    274\u001B[0m     n_coefs\u001B[38;5;241m=\u001B[39m\u001B[38;5;28mself\u001B[39m\u001B[38;5;241m.\u001B[39mword_size, drop_sum\u001B[38;5;241m=\u001B[39m\u001B[38;5;28mself\u001B[39m\u001B[38;5;241m.\u001B[39mdrop_sum,\n\u001B[0;32m    275\u001B[0m     anova\u001B[38;5;241m=\u001B[39m\u001B[38;5;28mself\u001B[39m\u001B[38;5;241m.\u001B[39manova, norm_mean\u001B[38;5;241m=\u001B[39m\u001B[38;5;28mself\u001B[39m\u001B[38;5;241m.\u001B[39mnorm_mean,\n\u001B[0;32m    276\u001B[0m     norm_std\u001B[38;5;241m=\u001B[39m\u001B[38;5;28mself\u001B[39m\u001B[38;5;241m.\u001B[39mnorm_std, n_bins\u001B[38;5;241m=\u001B[39m\u001B[38;5;28mself\u001B[39m\u001B[38;5;241m.\u001B[39mn_bins,\n\u001B[0;32m    277\u001B[0m     strategy\u001B[38;5;241m=\u001B[39m\u001B[38;5;28mself\u001B[39m\u001B[38;5;241m.\u001B[39mstrategy, alphabet\u001B[38;5;241m=\u001B[39m\u001B[38;5;28mself\u001B[39m\u001B[38;5;241m.\u001B[39malphabet\n\u001B[0;32m    278\u001B[0m )\n\u001B[0;32m    279\u001B[0m y_repeated \u001B[38;5;241m=\u001B[39m np\u001B[38;5;241m.\u001B[39mrepeat(y, n_windows)\n\u001B[1;32m--> 280\u001B[0m X_sfa \u001B[38;5;241m=\u001B[39m \u001B[43msfa\u001B[49m\u001B[38;5;241;43m.\u001B[39;49m\u001B[43mfit_transform\u001B[49m\u001B[43m(\u001B[49m\u001B[43mX_windowed\u001B[49m\u001B[43m,\u001B[49m\u001B[43m \u001B[49m\u001B[43my_repeated\u001B[49m\u001B[43m)\u001B[49m\n\u001B[0;32m    282\u001B[0m X_word \u001B[38;5;241m=\u001B[39m np\u001B[38;5;241m.\u001B[39masarray([\u001B[38;5;124m'\u001B[39m\u001B[38;5;124m'\u001B[39m\u001B[38;5;241m.\u001B[39mjoin(X_sfa[i])\n\u001B[0;32m    283\u001B[0m                      \u001B[38;5;28;01mfor\u001B[39;00m i \u001B[38;5;129;01min\u001B[39;00m \u001B[38;5;28mrange\u001B[39m(n_samples \u001B[38;5;241m*\u001B[39m n_windows)])\n\u001B[0;32m    284\u001B[0m X_word \u001B[38;5;241m=\u001B[39m X_word\u001B[38;5;241m.\u001B[39mreshape(n_samples, n_windows)\n",
      "File \u001B[1;32m~\\Desktop\\PPD - Projekt\\sensorDataAnalysis\\env\\Lib\\site-packages\\pyts\\approximation\\sfa.py:173\u001B[0m, in \u001B[0;36mSymbolicFourierApproximation.fit_transform\u001B[1;34m(self, X, y)\u001B[0m\n\u001B[0;32m    169\u001B[0m mcb \u001B[38;5;241m=\u001B[39m MultipleCoefficientBinning(\n\u001B[0;32m    170\u001B[0m     n_bins\u001B[38;5;241m=\u001B[39m\u001B[38;5;28mself\u001B[39m\u001B[38;5;241m.\u001B[39mn_bins, strategy\u001B[38;5;241m=\u001B[39m\u001B[38;5;28mself\u001B[39m\u001B[38;5;241m.\u001B[39mstrategy, alphabet\u001B[38;5;241m=\u001B[39m\u001B[38;5;28mself\u001B[39m\u001B[38;5;241m.\u001B[39malphabet\n\u001B[0;32m    171\u001B[0m )\n\u001B[0;32m    172\u001B[0m \u001B[38;5;28mself\u001B[39m\u001B[38;5;241m.\u001B[39m_pipeline \u001B[38;5;241m=\u001B[39m Pipeline([(\u001B[38;5;124m'\u001B[39m\u001B[38;5;124mdft\u001B[39m\u001B[38;5;124m'\u001B[39m, dft), (\u001B[38;5;124m'\u001B[39m\u001B[38;5;124mmcb\u001B[39m\u001B[38;5;124m'\u001B[39m, mcb)])\n\u001B[1;32m--> 173\u001B[0m X_sfa \u001B[38;5;241m=\u001B[39m \u001B[38;5;28;43mself\u001B[39;49m\u001B[38;5;241;43m.\u001B[39;49m\u001B[43m_pipeline\u001B[49m\u001B[38;5;241;43m.\u001B[39;49m\u001B[43mfit_transform\u001B[49m\u001B[43m(\u001B[49m\u001B[43mX\u001B[49m\u001B[43m,\u001B[49m\u001B[43m \u001B[49m\u001B[43my\u001B[49m\u001B[43m)\u001B[49m\n\u001B[0;32m    174\u001B[0m \u001B[38;5;28mself\u001B[39m\u001B[38;5;241m.\u001B[39msupport_ \u001B[38;5;241m=\u001B[39m \u001B[38;5;28mself\u001B[39m\u001B[38;5;241m.\u001B[39m_pipeline\u001B[38;5;241m.\u001B[39mnamed_steps[\u001B[38;5;124m'\u001B[39m\u001B[38;5;124mdft\u001B[39m\u001B[38;5;124m'\u001B[39m]\u001B[38;5;241m.\u001B[39msupport_\n\u001B[0;32m    175\u001B[0m \u001B[38;5;28mself\u001B[39m\u001B[38;5;241m.\u001B[39mbin_edges_ \u001B[38;5;241m=\u001B[39m \u001B[38;5;28mself\u001B[39m\u001B[38;5;241m.\u001B[39m_pipeline\u001B[38;5;241m.\u001B[39mnamed_steps[\u001B[38;5;124m'\u001B[39m\u001B[38;5;124mmcb\u001B[39m\u001B[38;5;124m'\u001B[39m]\u001B[38;5;241m.\u001B[39mbin_edges_\n",
      "File \u001B[1;32m~\\Desktop\\PPD - Projekt\\sensorDataAnalysis\\env\\Lib\\site-packages\\sklearn\\base.py:1152\u001B[0m, in \u001B[0;36m_fit_context.<locals>.decorator.<locals>.wrapper\u001B[1;34m(estimator, *args, **kwargs)\u001B[0m\n\u001B[0;32m   1145\u001B[0m     estimator\u001B[38;5;241m.\u001B[39m_validate_params()\n\u001B[0;32m   1147\u001B[0m \u001B[38;5;28;01mwith\u001B[39;00m config_context(\n\u001B[0;32m   1148\u001B[0m     skip_parameter_validation\u001B[38;5;241m=\u001B[39m(\n\u001B[0;32m   1149\u001B[0m         prefer_skip_nested_validation \u001B[38;5;129;01mor\u001B[39;00m global_skip_validation\n\u001B[0;32m   1150\u001B[0m     )\n\u001B[0;32m   1151\u001B[0m ):\n\u001B[1;32m-> 1152\u001B[0m     \u001B[38;5;28;01mreturn\u001B[39;00m \u001B[43mfit_method\u001B[49m\u001B[43m(\u001B[49m\u001B[43mestimator\u001B[49m\u001B[43m,\u001B[49m\u001B[43m \u001B[49m\u001B[38;5;241;43m*\u001B[39;49m\u001B[43margs\u001B[49m\u001B[43m,\u001B[49m\u001B[43m \u001B[49m\u001B[38;5;241;43m*\u001B[39;49m\u001B[38;5;241;43m*\u001B[39;49m\u001B[43mkwargs\u001B[49m\u001B[43m)\u001B[49m\n",
      "File \u001B[1;32m~\\Desktop\\PPD - Projekt\\sensorDataAnalysis\\env\\Lib\\site-packages\\sklearn\\pipeline.py:479\u001B[0m, in \u001B[0;36mPipeline.fit_transform\u001B[1;34m(self, X, y, **fit_params)\u001B[0m\n\u001B[0;32m    477\u001B[0m fit_params_last_step \u001B[38;5;241m=\u001B[39m fit_params_steps[\u001B[38;5;28mself\u001B[39m\u001B[38;5;241m.\u001B[39msteps[\u001B[38;5;241m-\u001B[39m\u001B[38;5;241m1\u001B[39m][\u001B[38;5;241m0\u001B[39m]]\n\u001B[0;32m    478\u001B[0m \u001B[38;5;28;01mif\u001B[39;00m \u001B[38;5;28mhasattr\u001B[39m(last_step, \u001B[38;5;124m\"\u001B[39m\u001B[38;5;124mfit_transform\u001B[39m\u001B[38;5;124m\"\u001B[39m):\n\u001B[1;32m--> 479\u001B[0m     \u001B[38;5;28;01mreturn\u001B[39;00m \u001B[43mlast_step\u001B[49m\u001B[38;5;241;43m.\u001B[39;49m\u001B[43mfit_transform\u001B[49m\u001B[43m(\u001B[49m\u001B[43mXt\u001B[49m\u001B[43m,\u001B[49m\u001B[43m \u001B[49m\u001B[43my\u001B[49m\u001B[43m,\u001B[49m\u001B[43m \u001B[49m\u001B[38;5;241;43m*\u001B[39;49m\u001B[38;5;241;43m*\u001B[39;49m\u001B[43mfit_params_last_step\u001B[49m\u001B[43m)\u001B[49m\n\u001B[0;32m    480\u001B[0m \u001B[38;5;28;01melse\u001B[39;00m:\n\u001B[0;32m    481\u001B[0m     \u001B[38;5;28;01mreturn\u001B[39;00m last_step\u001B[38;5;241m.\u001B[39mfit(Xt, y, \u001B[38;5;241m*\u001B[39m\u001B[38;5;241m*\u001B[39mfit_params_last_step)\u001B[38;5;241m.\u001B[39mtransform(Xt)\n",
      "File \u001B[1;32m~\\Desktop\\PPD - Projekt\\sensorDataAnalysis\\env\\Lib\\site-packages\\pyts\\base.py:40\u001B[0m, in \u001B[0;36mUnivariateTransformerMixin.fit_transform\u001B[1;34m(self, X, y, **fit_params)\u001B[0m\n\u001B[0;32m     37\u001B[0m     \u001B[38;5;28;01mreturn\u001B[39;00m \u001B[38;5;28mself\u001B[39m\u001B[38;5;241m.\u001B[39mfit(X, \u001B[38;5;241m*\u001B[39m\u001B[38;5;241m*\u001B[39mfit_params)\u001B[38;5;241m.\u001B[39mtransform(X)\n\u001B[0;32m     38\u001B[0m \u001B[38;5;28;01melse\u001B[39;00m:\n\u001B[0;32m     39\u001B[0m     \u001B[38;5;66;03m# fit method of arity 2 (supervised transformation)\u001B[39;00m\n\u001B[1;32m---> 40\u001B[0m     \u001B[38;5;28;01mreturn\u001B[39;00m \u001B[38;5;28;43mself\u001B[39;49m\u001B[38;5;241;43m.\u001B[39;49m\u001B[43mfit\u001B[49m\u001B[43m(\u001B[49m\u001B[43mX\u001B[49m\u001B[43m,\u001B[49m\u001B[43m \u001B[49m\u001B[43my\u001B[49m\u001B[43m,\u001B[49m\u001B[43m \u001B[49m\u001B[38;5;241;43m*\u001B[39;49m\u001B[38;5;241;43m*\u001B[39;49m\u001B[43mfit_params\u001B[49m\u001B[43m)\u001B[49m\u001B[38;5;241m.\u001B[39mtransform(X)\n",
      "File \u001B[1;32m~\\Desktop\\PPD - Projekt\\sensorDataAnalysis\\env\\Lib\\site-packages\\pyts\\approximation\\mcb.py:131\u001B[0m, in \u001B[0;36mMultipleCoefficientBinning.fit\u001B[1;34m(self, X, y)\u001B[0m\n\u001B[0;32m    129\u001B[0m \u001B[38;5;28mself\u001B[39m\u001B[38;5;241m.\u001B[39m_alphabet \u001B[38;5;241m=\u001B[39m \u001B[38;5;28mself\u001B[39m\u001B[38;5;241m.\u001B[39m_check_params(n_samples)\n\u001B[0;32m    130\u001B[0m \u001B[38;5;28mself\u001B[39m\u001B[38;5;241m.\u001B[39m_check_constant(X)\n\u001B[1;32m--> 131\u001B[0m \u001B[38;5;28mself\u001B[39m\u001B[38;5;241m.\u001B[39mbin_edges_ \u001B[38;5;241m=\u001B[39m \u001B[38;5;28;43mself\u001B[39;49m\u001B[38;5;241;43m.\u001B[39;49m\u001B[43m_compute_bins\u001B[49m\u001B[43m(\u001B[49m\n\u001B[0;32m    132\u001B[0m \u001B[43m    \u001B[49m\u001B[43mX\u001B[49m\u001B[43m,\u001B[49m\u001B[43m \u001B[49m\u001B[43my\u001B[49m\u001B[43m,\u001B[49m\u001B[43m \u001B[49m\u001B[43mn_timestamps\u001B[49m\u001B[43m,\u001B[49m\u001B[43m \u001B[49m\u001B[38;5;28;43mself\u001B[39;49m\u001B[38;5;241;43m.\u001B[39;49m\u001B[43mn_bins\u001B[49m\u001B[43m,\u001B[49m\u001B[43m \u001B[49m\u001B[38;5;28;43mself\u001B[39;49m\u001B[38;5;241;43m.\u001B[39;49m\u001B[43mstrategy\u001B[49m\u001B[43m)\u001B[49m\n\u001B[0;32m    133\u001B[0m \u001B[38;5;28;01mreturn\u001B[39;00m \u001B[38;5;28mself\u001B[39m\n",
      "File \u001B[1;32m~\\Desktop\\PPD - Projekt\\sensorDataAnalysis\\env\\Lib\\site-packages\\pyts\\approximation\\mcb.py:211\u001B[0m, in \u001B[0;36mMultipleCoefficientBinning._compute_bins\u001B[1;34m(self, X, y, n_timestamps, n_bins, strategy)\u001B[0m\n\u001B[0;32m    207\u001B[0m     bins_edges \u001B[38;5;241m=\u001B[39m np\u001B[38;5;241m.\u001B[39mpercentile(\n\u001B[0;32m    208\u001B[0m         X, np\u001B[38;5;241m.\u001B[39mlinspace(\u001B[38;5;241m0\u001B[39m, \u001B[38;5;241m100\u001B[39m, \u001B[38;5;28mself\u001B[39m\u001B[38;5;241m.\u001B[39mn_bins \u001B[38;5;241m+\u001B[39m \u001B[38;5;241m1\u001B[39m)[\u001B[38;5;241m1\u001B[39m:\u001B[38;5;241m-\u001B[39m\u001B[38;5;241m1\u001B[39m], axis\u001B[38;5;241m=\u001B[39m\u001B[38;5;241m0\u001B[39m\n\u001B[0;32m    209\u001B[0m     )\u001B[38;5;241m.\u001B[39mT\n\u001B[0;32m    210\u001B[0m     \u001B[38;5;28;01mif\u001B[39;00m np\u001B[38;5;241m.\u001B[39many(np\u001B[38;5;241m.\u001B[39mdiff(bins_edges, axis\u001B[38;5;241m=\u001B[39m\u001B[38;5;241m0\u001B[39m) \u001B[38;5;241m==\u001B[39m \u001B[38;5;241m0\u001B[39m):\n\u001B[1;32m--> 211\u001B[0m         \u001B[38;5;28;01mraise\u001B[39;00m \u001B[38;5;167;01mValueError\u001B[39;00m(\n\u001B[0;32m    212\u001B[0m             \u001B[38;5;124m\"\u001B[39m\u001B[38;5;124mAt least two consecutive quantiles are equal. \u001B[39m\u001B[38;5;124m\"\u001B[39m\n\u001B[0;32m    213\u001B[0m             \u001B[38;5;124m\"\u001B[39m\u001B[38;5;124mConsider trying with a smaller number of bins or \u001B[39m\u001B[38;5;124m\"\u001B[39m\n\u001B[0;32m    214\u001B[0m             \u001B[38;5;124m\"\u001B[39m\u001B[38;5;124mremoving timestamps with low variation.\u001B[39m\u001B[38;5;124m\"\u001B[39m\n\u001B[0;32m    215\u001B[0m         )\n\u001B[0;32m    216\u001B[0m \u001B[38;5;28;01melse\u001B[39;00m:\n\u001B[0;32m    217\u001B[0m     bins_edges \u001B[38;5;241m=\u001B[39m \u001B[38;5;28mself\u001B[39m\u001B[38;5;241m.\u001B[39m_entropy_bins(X, y, n_timestamps, n_bins)\n",
      "\u001B[1;31mValueError\u001B[0m: At least two consecutive quantiles are equal. Consider trying with a smaller number of bins or removing timestamps with low variation."
     ]
    }
   ],
   "source": [
    "WEASEL_transformer = WEASELMUSE(word_size=4, n_bins=4, window_sizes=[8, 12, 16, 20],\n",
    "                                anova=True, drop_sum=True, norm_std=False, \n",
    "                                chi2_threshold=2, sparse=False)\n",
    "WEASEL_classifier = LogisticRegression(solver='liblinear', multi_class='ovr')"
   ],
   "metadata": {
    "collapsed": false,
    "ExecuteTime": {
     "end_time": "2023-12-21T23:28:26.309778400Z",
     "start_time": "2023-12-21T23:28:24.349267600Z"
    }
   }
  },
  {
   "cell_type": "markdown",
   "source": [
    "(Zwiększono zatem liczbę podciągów.)"
   ],
   "metadata": {
    "collapsed": false
   }
  },
  {
   "cell_type": "markdown",
   "source": [
    "Test ANOVA + standaryzacja:"
   ],
   "metadata": {
    "collapsed": false
   }
  },
  {
   "cell_type": "code",
   "execution_count": 25,
   "outputs": [
    {
     "name": "stdout",
     "output_type": "stream",
     "text": [
      "(243, 67911)\n",
      "67911\n",
      "0.8333333333333334\n"
     ]
    }
   ],
   "source": [
    "WEASEL_transformer = WEASELMUSE(word_size=4, n_bins=3, window_sizes=[i for i in range(5, 100, 10)],\n",
    "                                anova=True, drop_sum=True, \n",
    "                                chi2_threshold=20, sparse=False)\n",
    "WEASEL_classifier = LogisticRegression(solver='liblinear', multi_class='ovr')\n",
    "\n",
    "train_data = WEASEL_transformer.fit_transform(X_train, y_train)\n",
    "WEASEL_classifier.fit(train_data, y_train)\n",
    "\n",
    "print(train_data.shape)\n",
    "print(len(WEASEL_transformer.vocabulary_))\n",
    "\n",
    "test_data = WEASEL_transformer.transform(X_test)\n",
    "print(WEASEL_classifier.score(test_data, y_test))"
   ],
   "metadata": {
    "collapsed": false,
    "ExecuteTime": {
     "end_time": "2023-12-22T02:14:16.403094500Z",
     "start_time": "2023-12-22T02:13:36.424787500Z"
    }
   }
  },
  {
   "cell_type": "markdown",
   "source": [
    "Test ANOVA (bez usunięcia pierwszego współczynnika transformaty Fouriera, niezalecane) + standaryzacja:"
   ],
   "metadata": {
    "collapsed": false
   }
  },
  {
   "cell_type": "code",
   "execution_count": 26,
   "outputs": [
    {
     "ename": "ValueError",
     "evalue": "At least two consecutive quantiles are equal. Consider trying with a smaller number of bins or removing timestamps with low variation.",
     "output_type": "error",
     "traceback": [
      "\u001B[1;31m---------------------------------------------------------------------------\u001B[0m",
      "\u001B[1;31mValueError\u001B[0m                                Traceback (most recent call last)",
      "Cell \u001B[1;32mIn[26], line 6\u001B[0m\n\u001B[0;32m      1\u001B[0m WEASEL_transformer \u001B[38;5;241m=\u001B[39m WEASELMUSE(word_size\u001B[38;5;241m=\u001B[39m\u001B[38;5;241m4\u001B[39m, n_bins\u001B[38;5;241m=\u001B[39m\u001B[38;5;241m3\u001B[39m, window_sizes\u001B[38;5;241m=\u001B[39m[i \u001B[38;5;28;01mfor\u001B[39;00m i \u001B[38;5;129;01min\u001B[39;00m \u001B[38;5;28mrange\u001B[39m(\u001B[38;5;241m5\u001B[39m, \u001B[38;5;241m100\u001B[39m, \u001B[38;5;241m10\u001B[39m)],\n\u001B[0;32m      2\u001B[0m                                 anova\u001B[38;5;241m=\u001B[39m\u001B[38;5;28;01mTrue\u001B[39;00m, drop_sum\u001B[38;5;241m=\u001B[39m\u001B[38;5;28;01mFalse\u001B[39;00m, \n\u001B[0;32m      3\u001B[0m                                 chi2_threshold\u001B[38;5;241m=\u001B[39m\u001B[38;5;241m20\u001B[39m, sparse\u001B[38;5;241m=\u001B[39m\u001B[38;5;28;01mFalse\u001B[39;00m)\n\u001B[0;32m      4\u001B[0m WEASEL_classifier \u001B[38;5;241m=\u001B[39m LogisticRegression(solver\u001B[38;5;241m=\u001B[39m\u001B[38;5;124m'\u001B[39m\u001B[38;5;124mliblinear\u001B[39m\u001B[38;5;124m'\u001B[39m, multi_class\u001B[38;5;241m=\u001B[39m\u001B[38;5;124m'\u001B[39m\u001B[38;5;124movr\u001B[39m\u001B[38;5;124m'\u001B[39m)\n\u001B[1;32m----> 6\u001B[0m train_data \u001B[38;5;241m=\u001B[39m \u001B[43mWEASEL_transformer\u001B[49m\u001B[38;5;241;43m.\u001B[39;49m\u001B[43mfit_transform\u001B[49m\u001B[43m(\u001B[49m\u001B[43mX_train\u001B[49m\u001B[43m,\u001B[49m\u001B[43m \u001B[49m\u001B[43my_train\u001B[49m\u001B[43m)\u001B[49m\n\u001B[0;32m      7\u001B[0m WEASEL_classifier\u001B[38;5;241m.\u001B[39mfit(train_data, y_train)\n\u001B[0;32m      9\u001B[0m \u001B[38;5;28mprint\u001B[39m(train_data\u001B[38;5;241m.\u001B[39mshape)\n",
      "File \u001B[1;32m~\\Desktop\\PPD - Projekt\\sensorDataAnalysis\\env\\Lib\\site-packages\\pyts\\multivariate\\transformation\\weasel_muse.py:233\u001B[0m, in \u001B[0;36mWEASELMUSE.fit_transform\u001B[1;34m(self, X, y)\u001B[0m\n\u001B[0;32m    231\u001B[0m X_new \u001B[38;5;241m=\u001B[39m []\n\u001B[0;32m    232\u001B[0m \u001B[38;5;28;01mfor\u001B[39;00m i, transformer \u001B[38;5;129;01min\u001B[39;00m \u001B[38;5;28menumerate\u001B[39m(\u001B[38;5;28mself\u001B[39m\u001B[38;5;241m.\u001B[39m_estimators):\n\u001B[1;32m--> 233\u001B[0m     X_new\u001B[38;5;241m.\u001B[39mappend(\u001B[43mtransformer\u001B[49m\u001B[38;5;241;43m.\u001B[39;49m\u001B[43mfit_transform\u001B[49m\u001B[43m(\u001B[49m\u001B[43mX\u001B[49m\u001B[43m[\u001B[49m\u001B[43m:\u001B[49m\u001B[43m,\u001B[49m\u001B[43m \u001B[49m\u001B[43mi\u001B[49m\u001B[43m,\u001B[49m\u001B[43m \u001B[49m\u001B[43m:\u001B[49m\u001B[43m]\u001B[49m\u001B[43m,\u001B[49m\u001B[43m \u001B[49m\u001B[43my\u001B[49m\u001B[43m)\u001B[49m)\n\u001B[0;32m    234\u001B[0m     \u001B[38;5;28mself\u001B[39m\u001B[38;5;241m.\u001B[39m_update_vocabulary(\u001B[38;5;28mstr\u001B[39m(i \u001B[38;5;241m+\u001B[39m \u001B[38;5;241m1\u001B[39m), transformer, original\u001B[38;5;241m=\u001B[39m\u001B[38;5;28;01mTrue\u001B[39;00m)\n\u001B[0;32m    235\u001B[0m \u001B[38;5;28;01mfor\u001B[39;00m i, transformer \u001B[38;5;129;01min\u001B[39;00m \u001B[38;5;28menumerate\u001B[39m(\u001B[38;5;28mself\u001B[39m\u001B[38;5;241m.\u001B[39m_estimators_diff):\n",
      "File \u001B[1;32m~\\Desktop\\PPD - Projekt\\sensorDataAnalysis\\env\\Lib\\site-packages\\pyts\\transformation\\weasel.py:280\u001B[0m, in \u001B[0;36mWEASEL.fit_transform\u001B[1;34m(self, X, y)\u001B[0m\n\u001B[0;32m    273\u001B[0m sfa \u001B[38;5;241m=\u001B[39m SymbolicFourierApproximation(\n\u001B[0;32m    274\u001B[0m     n_coefs\u001B[38;5;241m=\u001B[39m\u001B[38;5;28mself\u001B[39m\u001B[38;5;241m.\u001B[39mword_size, drop_sum\u001B[38;5;241m=\u001B[39m\u001B[38;5;28mself\u001B[39m\u001B[38;5;241m.\u001B[39mdrop_sum,\n\u001B[0;32m    275\u001B[0m     anova\u001B[38;5;241m=\u001B[39m\u001B[38;5;28mself\u001B[39m\u001B[38;5;241m.\u001B[39manova, norm_mean\u001B[38;5;241m=\u001B[39m\u001B[38;5;28mself\u001B[39m\u001B[38;5;241m.\u001B[39mnorm_mean,\n\u001B[0;32m    276\u001B[0m     norm_std\u001B[38;5;241m=\u001B[39m\u001B[38;5;28mself\u001B[39m\u001B[38;5;241m.\u001B[39mnorm_std, n_bins\u001B[38;5;241m=\u001B[39m\u001B[38;5;28mself\u001B[39m\u001B[38;5;241m.\u001B[39mn_bins,\n\u001B[0;32m    277\u001B[0m     strategy\u001B[38;5;241m=\u001B[39m\u001B[38;5;28mself\u001B[39m\u001B[38;5;241m.\u001B[39mstrategy, alphabet\u001B[38;5;241m=\u001B[39m\u001B[38;5;28mself\u001B[39m\u001B[38;5;241m.\u001B[39malphabet\n\u001B[0;32m    278\u001B[0m )\n\u001B[0;32m    279\u001B[0m y_repeated \u001B[38;5;241m=\u001B[39m np\u001B[38;5;241m.\u001B[39mrepeat(y, n_windows)\n\u001B[1;32m--> 280\u001B[0m X_sfa \u001B[38;5;241m=\u001B[39m \u001B[43msfa\u001B[49m\u001B[38;5;241;43m.\u001B[39;49m\u001B[43mfit_transform\u001B[49m\u001B[43m(\u001B[49m\u001B[43mX_windowed\u001B[49m\u001B[43m,\u001B[49m\u001B[43m \u001B[49m\u001B[43my_repeated\u001B[49m\u001B[43m)\u001B[49m\n\u001B[0;32m    282\u001B[0m X_word \u001B[38;5;241m=\u001B[39m np\u001B[38;5;241m.\u001B[39masarray([\u001B[38;5;124m'\u001B[39m\u001B[38;5;124m'\u001B[39m\u001B[38;5;241m.\u001B[39mjoin(X_sfa[i])\n\u001B[0;32m    283\u001B[0m                      \u001B[38;5;28;01mfor\u001B[39;00m i \u001B[38;5;129;01min\u001B[39;00m \u001B[38;5;28mrange\u001B[39m(n_samples \u001B[38;5;241m*\u001B[39m n_windows)])\n\u001B[0;32m    284\u001B[0m X_word \u001B[38;5;241m=\u001B[39m X_word\u001B[38;5;241m.\u001B[39mreshape(n_samples, n_windows)\n",
      "File \u001B[1;32m~\\Desktop\\PPD - Projekt\\sensorDataAnalysis\\env\\Lib\\site-packages\\pyts\\approximation\\sfa.py:173\u001B[0m, in \u001B[0;36mSymbolicFourierApproximation.fit_transform\u001B[1;34m(self, X, y)\u001B[0m\n\u001B[0;32m    169\u001B[0m mcb \u001B[38;5;241m=\u001B[39m MultipleCoefficientBinning(\n\u001B[0;32m    170\u001B[0m     n_bins\u001B[38;5;241m=\u001B[39m\u001B[38;5;28mself\u001B[39m\u001B[38;5;241m.\u001B[39mn_bins, strategy\u001B[38;5;241m=\u001B[39m\u001B[38;5;28mself\u001B[39m\u001B[38;5;241m.\u001B[39mstrategy, alphabet\u001B[38;5;241m=\u001B[39m\u001B[38;5;28mself\u001B[39m\u001B[38;5;241m.\u001B[39malphabet\n\u001B[0;32m    171\u001B[0m )\n\u001B[0;32m    172\u001B[0m \u001B[38;5;28mself\u001B[39m\u001B[38;5;241m.\u001B[39m_pipeline \u001B[38;5;241m=\u001B[39m Pipeline([(\u001B[38;5;124m'\u001B[39m\u001B[38;5;124mdft\u001B[39m\u001B[38;5;124m'\u001B[39m, dft), (\u001B[38;5;124m'\u001B[39m\u001B[38;5;124mmcb\u001B[39m\u001B[38;5;124m'\u001B[39m, mcb)])\n\u001B[1;32m--> 173\u001B[0m X_sfa \u001B[38;5;241m=\u001B[39m \u001B[38;5;28;43mself\u001B[39;49m\u001B[38;5;241;43m.\u001B[39;49m\u001B[43m_pipeline\u001B[49m\u001B[38;5;241;43m.\u001B[39;49m\u001B[43mfit_transform\u001B[49m\u001B[43m(\u001B[49m\u001B[43mX\u001B[49m\u001B[43m,\u001B[49m\u001B[43m \u001B[49m\u001B[43my\u001B[49m\u001B[43m)\u001B[49m\n\u001B[0;32m    174\u001B[0m \u001B[38;5;28mself\u001B[39m\u001B[38;5;241m.\u001B[39msupport_ \u001B[38;5;241m=\u001B[39m \u001B[38;5;28mself\u001B[39m\u001B[38;5;241m.\u001B[39m_pipeline\u001B[38;5;241m.\u001B[39mnamed_steps[\u001B[38;5;124m'\u001B[39m\u001B[38;5;124mdft\u001B[39m\u001B[38;5;124m'\u001B[39m]\u001B[38;5;241m.\u001B[39msupport_\n\u001B[0;32m    175\u001B[0m \u001B[38;5;28mself\u001B[39m\u001B[38;5;241m.\u001B[39mbin_edges_ \u001B[38;5;241m=\u001B[39m \u001B[38;5;28mself\u001B[39m\u001B[38;5;241m.\u001B[39m_pipeline\u001B[38;5;241m.\u001B[39mnamed_steps[\u001B[38;5;124m'\u001B[39m\u001B[38;5;124mmcb\u001B[39m\u001B[38;5;124m'\u001B[39m]\u001B[38;5;241m.\u001B[39mbin_edges_\n",
      "File \u001B[1;32m~\\Desktop\\PPD - Projekt\\sensorDataAnalysis\\env\\Lib\\site-packages\\sklearn\\base.py:1152\u001B[0m, in \u001B[0;36m_fit_context.<locals>.decorator.<locals>.wrapper\u001B[1;34m(estimator, *args, **kwargs)\u001B[0m\n\u001B[0;32m   1145\u001B[0m     estimator\u001B[38;5;241m.\u001B[39m_validate_params()\n\u001B[0;32m   1147\u001B[0m \u001B[38;5;28;01mwith\u001B[39;00m config_context(\n\u001B[0;32m   1148\u001B[0m     skip_parameter_validation\u001B[38;5;241m=\u001B[39m(\n\u001B[0;32m   1149\u001B[0m         prefer_skip_nested_validation \u001B[38;5;129;01mor\u001B[39;00m global_skip_validation\n\u001B[0;32m   1150\u001B[0m     )\n\u001B[0;32m   1151\u001B[0m ):\n\u001B[1;32m-> 1152\u001B[0m     \u001B[38;5;28;01mreturn\u001B[39;00m \u001B[43mfit_method\u001B[49m\u001B[43m(\u001B[49m\u001B[43mestimator\u001B[49m\u001B[43m,\u001B[49m\u001B[43m \u001B[49m\u001B[38;5;241;43m*\u001B[39;49m\u001B[43margs\u001B[49m\u001B[43m,\u001B[49m\u001B[43m \u001B[49m\u001B[38;5;241;43m*\u001B[39;49m\u001B[38;5;241;43m*\u001B[39;49m\u001B[43mkwargs\u001B[49m\u001B[43m)\u001B[49m\n",
      "File \u001B[1;32m~\\Desktop\\PPD - Projekt\\sensorDataAnalysis\\env\\Lib\\site-packages\\sklearn\\pipeline.py:479\u001B[0m, in \u001B[0;36mPipeline.fit_transform\u001B[1;34m(self, X, y, **fit_params)\u001B[0m\n\u001B[0;32m    477\u001B[0m fit_params_last_step \u001B[38;5;241m=\u001B[39m fit_params_steps[\u001B[38;5;28mself\u001B[39m\u001B[38;5;241m.\u001B[39msteps[\u001B[38;5;241m-\u001B[39m\u001B[38;5;241m1\u001B[39m][\u001B[38;5;241m0\u001B[39m]]\n\u001B[0;32m    478\u001B[0m \u001B[38;5;28;01mif\u001B[39;00m \u001B[38;5;28mhasattr\u001B[39m(last_step, \u001B[38;5;124m\"\u001B[39m\u001B[38;5;124mfit_transform\u001B[39m\u001B[38;5;124m\"\u001B[39m):\n\u001B[1;32m--> 479\u001B[0m     \u001B[38;5;28;01mreturn\u001B[39;00m \u001B[43mlast_step\u001B[49m\u001B[38;5;241;43m.\u001B[39;49m\u001B[43mfit_transform\u001B[49m\u001B[43m(\u001B[49m\u001B[43mXt\u001B[49m\u001B[43m,\u001B[49m\u001B[43m \u001B[49m\u001B[43my\u001B[49m\u001B[43m,\u001B[49m\u001B[43m \u001B[49m\u001B[38;5;241;43m*\u001B[39;49m\u001B[38;5;241;43m*\u001B[39;49m\u001B[43mfit_params_last_step\u001B[49m\u001B[43m)\u001B[49m\n\u001B[0;32m    480\u001B[0m \u001B[38;5;28;01melse\u001B[39;00m:\n\u001B[0;32m    481\u001B[0m     \u001B[38;5;28;01mreturn\u001B[39;00m last_step\u001B[38;5;241m.\u001B[39mfit(Xt, y, \u001B[38;5;241m*\u001B[39m\u001B[38;5;241m*\u001B[39mfit_params_last_step)\u001B[38;5;241m.\u001B[39mtransform(Xt)\n",
      "File \u001B[1;32m~\\Desktop\\PPD - Projekt\\sensorDataAnalysis\\env\\Lib\\site-packages\\pyts\\base.py:40\u001B[0m, in \u001B[0;36mUnivariateTransformerMixin.fit_transform\u001B[1;34m(self, X, y, **fit_params)\u001B[0m\n\u001B[0;32m     37\u001B[0m     \u001B[38;5;28;01mreturn\u001B[39;00m \u001B[38;5;28mself\u001B[39m\u001B[38;5;241m.\u001B[39mfit(X, \u001B[38;5;241m*\u001B[39m\u001B[38;5;241m*\u001B[39mfit_params)\u001B[38;5;241m.\u001B[39mtransform(X)\n\u001B[0;32m     38\u001B[0m \u001B[38;5;28;01melse\u001B[39;00m:\n\u001B[0;32m     39\u001B[0m     \u001B[38;5;66;03m# fit method of arity 2 (supervised transformation)\u001B[39;00m\n\u001B[1;32m---> 40\u001B[0m     \u001B[38;5;28;01mreturn\u001B[39;00m \u001B[38;5;28;43mself\u001B[39;49m\u001B[38;5;241;43m.\u001B[39;49m\u001B[43mfit\u001B[49m\u001B[43m(\u001B[49m\u001B[43mX\u001B[49m\u001B[43m,\u001B[49m\u001B[43m \u001B[49m\u001B[43my\u001B[49m\u001B[43m,\u001B[49m\u001B[43m \u001B[49m\u001B[38;5;241;43m*\u001B[39;49m\u001B[38;5;241;43m*\u001B[39;49m\u001B[43mfit_params\u001B[49m\u001B[43m)\u001B[49m\u001B[38;5;241m.\u001B[39mtransform(X)\n",
      "File \u001B[1;32m~\\Desktop\\PPD - Projekt\\sensorDataAnalysis\\env\\Lib\\site-packages\\pyts\\approximation\\mcb.py:131\u001B[0m, in \u001B[0;36mMultipleCoefficientBinning.fit\u001B[1;34m(self, X, y)\u001B[0m\n\u001B[0;32m    129\u001B[0m \u001B[38;5;28mself\u001B[39m\u001B[38;5;241m.\u001B[39m_alphabet \u001B[38;5;241m=\u001B[39m \u001B[38;5;28mself\u001B[39m\u001B[38;5;241m.\u001B[39m_check_params(n_samples)\n\u001B[0;32m    130\u001B[0m \u001B[38;5;28mself\u001B[39m\u001B[38;5;241m.\u001B[39m_check_constant(X)\n\u001B[1;32m--> 131\u001B[0m \u001B[38;5;28mself\u001B[39m\u001B[38;5;241m.\u001B[39mbin_edges_ \u001B[38;5;241m=\u001B[39m \u001B[38;5;28;43mself\u001B[39;49m\u001B[38;5;241;43m.\u001B[39;49m\u001B[43m_compute_bins\u001B[49m\u001B[43m(\u001B[49m\n\u001B[0;32m    132\u001B[0m \u001B[43m    \u001B[49m\u001B[43mX\u001B[49m\u001B[43m,\u001B[49m\u001B[43m \u001B[49m\u001B[43my\u001B[49m\u001B[43m,\u001B[49m\u001B[43m \u001B[49m\u001B[43mn_timestamps\u001B[49m\u001B[43m,\u001B[49m\u001B[43m \u001B[49m\u001B[38;5;28;43mself\u001B[39;49m\u001B[38;5;241;43m.\u001B[39;49m\u001B[43mn_bins\u001B[49m\u001B[43m,\u001B[49m\u001B[43m \u001B[49m\u001B[38;5;28;43mself\u001B[39;49m\u001B[38;5;241;43m.\u001B[39;49m\u001B[43mstrategy\u001B[49m\u001B[43m)\u001B[49m\n\u001B[0;32m    133\u001B[0m \u001B[38;5;28;01mreturn\u001B[39;00m \u001B[38;5;28mself\u001B[39m\n",
      "File \u001B[1;32m~\\Desktop\\PPD - Projekt\\sensorDataAnalysis\\env\\Lib\\site-packages\\pyts\\approximation\\mcb.py:211\u001B[0m, in \u001B[0;36mMultipleCoefficientBinning._compute_bins\u001B[1;34m(self, X, y, n_timestamps, n_bins, strategy)\u001B[0m\n\u001B[0;32m    207\u001B[0m     bins_edges \u001B[38;5;241m=\u001B[39m np\u001B[38;5;241m.\u001B[39mpercentile(\n\u001B[0;32m    208\u001B[0m         X, np\u001B[38;5;241m.\u001B[39mlinspace(\u001B[38;5;241m0\u001B[39m, \u001B[38;5;241m100\u001B[39m, \u001B[38;5;28mself\u001B[39m\u001B[38;5;241m.\u001B[39mn_bins \u001B[38;5;241m+\u001B[39m \u001B[38;5;241m1\u001B[39m)[\u001B[38;5;241m1\u001B[39m:\u001B[38;5;241m-\u001B[39m\u001B[38;5;241m1\u001B[39m], axis\u001B[38;5;241m=\u001B[39m\u001B[38;5;241m0\u001B[39m\n\u001B[0;32m    209\u001B[0m     )\u001B[38;5;241m.\u001B[39mT\n\u001B[0;32m    210\u001B[0m     \u001B[38;5;28;01mif\u001B[39;00m np\u001B[38;5;241m.\u001B[39many(np\u001B[38;5;241m.\u001B[39mdiff(bins_edges, axis\u001B[38;5;241m=\u001B[39m\u001B[38;5;241m0\u001B[39m) \u001B[38;5;241m==\u001B[39m \u001B[38;5;241m0\u001B[39m):\n\u001B[1;32m--> 211\u001B[0m         \u001B[38;5;28;01mraise\u001B[39;00m \u001B[38;5;167;01mValueError\u001B[39;00m(\n\u001B[0;32m    212\u001B[0m             \u001B[38;5;124m\"\u001B[39m\u001B[38;5;124mAt least two consecutive quantiles are equal. \u001B[39m\u001B[38;5;124m\"\u001B[39m\n\u001B[0;32m    213\u001B[0m             \u001B[38;5;124m\"\u001B[39m\u001B[38;5;124mConsider trying with a smaller number of bins or \u001B[39m\u001B[38;5;124m\"\u001B[39m\n\u001B[0;32m    214\u001B[0m             \u001B[38;5;124m\"\u001B[39m\u001B[38;5;124mremoving timestamps with low variation.\u001B[39m\u001B[38;5;124m\"\u001B[39m\n\u001B[0;32m    215\u001B[0m         )\n\u001B[0;32m    216\u001B[0m \u001B[38;5;28;01melse\u001B[39;00m:\n\u001B[0;32m    217\u001B[0m     bins_edges \u001B[38;5;241m=\u001B[39m \u001B[38;5;28mself\u001B[39m\u001B[38;5;241m.\u001B[39m_entropy_bins(X, y, n_timestamps, n_bins)\n",
      "\u001B[1;31mValueError\u001B[0m: At least two consecutive quantiles are equal. Consider trying with a smaller number of bins or removing timestamps with low variation."
     ]
    }
   ],
   "source": [
    "WEASEL_transformer = WEASELMUSE(word_size=4, n_bins=3, window_sizes=[i for i in range(5, 100, 10)],\n",
    "                                anova=True, drop_sum=False, \n",
    "                                chi2_threshold=20, sparse=False)\n",
    "WEASEL_classifier = LogisticRegression(solver='liblinear', multi_class='ovr')\n",
    "\n",
    "train_data = WEASEL_transformer.fit_transform(X_train, y_train)\n",
    "WEASEL_classifier.fit(train_data, y_train)\n",
    "\n",
    "print(train_data.shape)\n",
    "print(len(WEASEL_transformer.vocabulary_))\n",
    "\n",
    "test_data = WEASEL_transformer.transform(X_test)\n",
    "print(WEASEL_classifier.score(test_data, y_test))"
   ],
   "metadata": {
    "collapsed": false,
    "ExecuteTime": {
     "end_time": "2023-12-22T02:14:16.647183100Z",
     "start_time": "2023-12-22T02:14:16.406095800Z"
    }
   }
  },
  {
   "cell_type": "markdown",
   "source": [
    "Brak testu ANOVA + standaryzacja:"
   ],
   "metadata": {
    "collapsed": false
   }
  },
  {
   "cell_type": "code",
   "execution_count": 27,
   "outputs": [
    {
     "name": "stdout",
     "output_type": "stream",
     "text": [
      "(243, 81438)\n",
      "81438\n",
      "0.8518518518518519\n"
     ]
    }
   ],
   "source": [
    "WEASEL_transformer = WEASELMUSE(word_size=4, n_bins=3, window_sizes=[i for i in range(5, 100, 10)],\n",
    "                                chi2_threshold=20, sparse=False)\n",
    "WEASEL_classifier = LogisticRegression(solver='liblinear', multi_class='ovr')\n",
    "\n",
    "train_data = WEASEL_transformer.fit_transform(X_train, y_train)\n",
    "WEASEL_classifier.fit(train_data, y_train)\n",
    "\n",
    "print(train_data.shape)\n",
    "print(len(WEASEL_transformer.vocabulary_))\n",
    "\n",
    "test_data = WEASEL_transformer.transform(X_test)\n",
    "print(WEASEL_classifier.score(test_data, y_test))"
   ],
   "metadata": {
    "collapsed": false,
    "ExecuteTime": {
     "end_time": "2023-12-22T02:16:35.347878400Z",
     "start_time": "2023-12-22T02:15:58.035908300Z"
    }
   }
  },
  {
   "cell_type": "markdown",
   "source": [
    "Test ANOVA + brak standaryzacji:"
   ],
   "metadata": {
    "collapsed": false
   }
  },
  {
   "cell_type": "code",
   "execution_count": 28,
   "outputs": [
    {
     "name": "stdout",
     "output_type": "stream",
     "text": [
      "(243, 75298)\n",
      "75298\n",
      "0.7777777777777778\n"
     ]
    }
   ],
   "source": [
    "WEASEL_transformer = WEASELMUSE(word_size=4, n_bins=3, window_sizes=[i for i in range(5, 100, 10)],\n",
    "                                anova=True, drop_sum=True, norm_std=False, \n",
    "                                chi2_threshold=20, sparse=False)\n",
    "WEASEL_classifier = LogisticRegression(solver='liblinear', multi_class='ovr')\n",
    "\n",
    "train_data = WEASEL_transformer.fit_transform(X_train, y_train)\n",
    "WEASEL_classifier.fit(train_data, y_train)\n",
    "\n",
    "print(train_data.shape)\n",
    "print(len(WEASEL_transformer.vocabulary_))\n",
    "\n",
    "test_data = WEASEL_transformer.transform(X_test)\n",
    "print(WEASEL_classifier.score(test_data, y_test))"
   ],
   "metadata": {
    "collapsed": false,
    "ExecuteTime": {
     "end_time": "2023-12-22T02:17:12.148530900Z",
     "start_time": "2023-12-22T02:16:35.328878600Z"
    }
   }
  },
  {
   "cell_type": "markdown",
   "source": [
    "Brak testu ANOVA + brak standaryzacji:"
   ],
   "metadata": {
    "collapsed": false
   }
  },
  {
   "cell_type": "code",
   "execution_count": 29,
   "outputs": [
    {
     "name": "stdout",
     "output_type": "stream",
     "text": [
      "(243, 73981)\n",
      "73981\n",
      "0.7962962962962963\n"
     ]
    }
   ],
   "source": [
    "WEASEL_transformer = WEASELMUSE(word_size=4, n_bins=3, window_sizes=[i for i in range(5, 100, 10)],\n",
    "                                norm_std=False,\n",
    "                                chi2_threshold=20, sparse=False)\n",
    "WEASEL_classifier = LogisticRegression(solver='liblinear', multi_class='ovr')\n",
    "\n",
    "train_data = WEASEL_transformer.fit_transform(X_train, y_train)\n",
    "WEASEL_classifier.fit(train_data, y_train)\n",
    "\n",
    "print(train_data.shape)\n",
    "print(len(WEASEL_transformer.vocabulary_))\n",
    "\n",
    "test_data = WEASEL_transformer.transform(X_test)\n",
    "print(WEASEL_classifier.score(test_data, y_test))"
   ],
   "metadata": {
    "collapsed": false,
    "ExecuteTime": {
     "end_time": "2023-12-22T02:17:46.457782100Z",
     "start_time": "2023-12-22T02:17:12.150493200Z"
    }
   }
  },
  {
   "cell_type": "markdown",
   "source": [
    "### Badanie wpływu zwiększenia progu Chi kwadrat"
   ],
   "metadata": {
    "collapsed": false
   }
  },
  {
   "cell_type": "markdown",
   "source": [
    "##### Mała próbka\n",
    "Długości okien (podciągów) o zbyt dużym rozstawieniu"
   ],
   "metadata": {
    "collapsed": false
   }
  },
  {
   "cell_type": "code",
   "execution_count": 8,
   "outputs": [
    {
     "name": "stdout",
     "output_type": "stream",
     "text": [
      "2 142077 0.8148148148148148\n"
     ]
    }
   ],
   "source": [
    "WEASEL_transformer = WEASELMUSE(word_size=4, n_bins=3, window_sizes=[25, 125, 625, 3125],\n",
    "                                chi2_threshold=2, sparse=False)\n",
    "WEASEL_classifier = LogisticRegression(solver='liblinear', multi_class='ovr')\n",
    "\n",
    "clf = make_pipeline(WEASEL_transformer, WEASEL_classifier)\n",
    "clf.fit(X_train, y_train)\n",
    "clf_score = clf.score(X_test, y_test)\n",
    "print(2, len(WEASEL_transformer.vocabulary_), clf_score)"
   ],
   "metadata": {
    "collapsed": false,
    "ExecuteTime": {
     "end_time": "2024-01-13T00:19:48.320425200Z",
     "start_time": "2024-01-13T00:19:37.863134100Z"
    }
   }
  },
  {
   "cell_type": "code",
   "execution_count": 30,
   "outputs": [
    {
     "name": "stdout",
     "output_type": "stream",
     "text": [
      "10 42934 0.8333333333333334\n",
      "20 11855 0.8333333333333334\n",
      "30 5909 0.8518518518518519\n",
      "40 3728 0.8518518518518519\n",
      "50 2602 0.8333333333333334\n",
      "60 1997 0.8333333333333334\n",
      "70 1548 0.8333333333333334\n",
      "80 1236 0.8333333333333334\n",
      "90 1007 0.8333333333333334\n",
      "100 853 0.7592592592592593\n",
      "110 735 0.7777777777777778\n",
      "120 644 0.7777777777777778\n",
      "130 569 0.7777777777777778\n",
      "140 506 0.8148148148148148\n",
      "150 455 0.7962962962962963\n",
      "160 410 0.7592592592592593\n",
      "170 371 0.7592592592592593\n",
      "180 342 0.7592592592592593\n",
      "190 306 0.7962962962962963\n",
      "200 278 0.7962962962962963\n",
      "210 250 0.8148148148148148\n",
      "220 229 0.7962962962962963\n",
      "230 210 0.7777777777777778\n",
      "240 199 0.7407407407407407\n",
      "250 186 0.7592592592592593\n",
      "260 174 0.7222222222222222\n",
      "270 159 0.7037037037037037\n",
      "280 150 0.7037037037037037\n",
      "290 136 0.6481481481481481\n",
      "300 131 0.6481481481481481\n",
      "310 123 0.7222222222222222\n",
      "320 114 0.6666666666666666\n",
      "330 107 0.6851851851851852\n",
      "340 103 0.6851851851851852\n",
      "350 97 0.6666666666666666\n",
      "360 95 0.6666666666666666\n",
      "370 94 0.7037037037037037\n",
      "380 91 0.6851851851851852\n",
      "390 89 0.6666666666666666\n",
      "400 87 0.6666666666666666\n",
      "410 87 0.6666666666666666\n",
      "420 85 0.6296296296296297\n",
      "430 82 0.6296296296296297\n",
      "440 81 0.6666666666666666\n",
      "450 80 0.6296296296296297\n",
      "460 77 0.6851851851851852\n",
      "470 76 0.6851851851851852\n",
      "480 75 0.6481481481481481\n",
      "490 75 0.6481481481481481\n",
      "500 72 0.7037037037037037\n"
     ]
    }
   ],
   "source": [
    "for i in range(10, 510, 10):\n",
    "    try:\n",
    "        WEASEL_transformer = WEASELMUSE(word_size=4, n_bins=3, window_sizes=[25, 125, 625, 3125],\n",
    "                                        chi2_threshold=i, sparse=False)\n",
    "        WEASEL_classifier = LogisticRegression(solver='liblinear', multi_class='ovr')\n",
    "        \n",
    "        clf = make_pipeline(WEASEL_transformer, WEASEL_classifier)\n",
    "        clf.fit(X_train, y_train)\n",
    "        clf_score = clf.score(X_test, y_test)\n",
    "        print(i, len(WEASEL_transformer.vocabulary_), clf_score)\n",
    "        \n",
    "    except:\n",
    "        break"
   ],
   "metadata": {
    "collapsed": false,
    "ExecuteTime": {
     "end_time": "2023-12-22T02:22:04.573040900Z",
     "start_time": "2023-12-22T02:17:56.555084500Z"
    }
   }
  },
  {
   "cell_type": "markdown",
   "source": [
    "##### Średnia próbka\n",
    "Długości okien (podciągów) o korzystnej odległości"
   ],
   "metadata": {
    "collapsed": false
   }
  },
  {
   "cell_type": "code",
   "execution_count": 9,
   "outputs": [
    {
     "name": "stdout",
     "output_type": "stream",
     "text": [
      "2 1285556 0.8518518518518519\n"
     ]
    }
   ],
   "source": [
    "WEASEL_transformer = WEASELMUSE(word_size=4, n_bins=3, window_sizes=[i for i in range(5, 100, 5)],\n",
    "                                chi2_threshold=2, sparse=False)\n",
    "WEASEL_classifier = LogisticRegression(solver='liblinear', multi_class='ovr')\n",
    "\n",
    "clf = make_pipeline(WEASEL_transformer, WEASEL_classifier)\n",
    "clf.fit(X_train, y_train)\n",
    "clf_score = clf.score(X_test, y_test)\n",
    "print(2, len(WEASEL_transformer.vocabulary_), clf_score)"
   ],
   "metadata": {
    "collapsed": false,
    "ExecuteTime": {
     "end_time": "2024-01-13T00:22:00.249640Z",
     "start_time": "2024-01-13T00:19:48.315425700Z"
    }
   }
  },
  {
   "cell_type": "code",
   "execution_count": 31,
   "outputs": [
    {
     "name": "stdout",
     "output_type": "stream",
     "text": [
      "10 472123 0.8518518518518519\n",
      "20 144779 0.8703703703703703\n",
      "30 74821 0.8703703703703703\n",
      "40 48767 0.8518518518518519\n",
      "50 34614 0.8518518518518519\n",
      "60 27056 0.8518518518518519\n",
      "70 21995 0.8518518518518519\n",
      "80 18212 0.8518518518518519\n",
      "90 15422 0.8518518518518519\n",
      "100 13334 0.8518518518518519\n",
      "110 11834 0.8518518518518519\n",
      "120 10494 0.8518518518518519\n",
      "130 9453 0.8333333333333334\n",
      "140 8608 0.8333333333333334\n",
      "150 7888 0.8333333333333334\n",
      "160 7232 0.8148148148148148\n",
      "170 6650 0.8333333333333334\n",
      "180 6187 0.8148148148148148\n",
      "190 5769 0.8148148148148148\n",
      "200 5404 0.8148148148148148\n",
      "210 5064 0.8148148148148148\n",
      "220 4749 0.8148148148148148\n",
      "230 4472 0.8333333333333334\n",
      "240 4239 0.8333333333333334\n",
      "250 4029 0.8333333333333334\n",
      "260 3840 0.8333333333333334\n",
      "270 3638 0.8333333333333334\n",
      "280 3485 0.8148148148148148\n",
      "290 3322 0.8148148148148148\n",
      "300 3174 0.8148148148148148\n",
      "310 3036 0.8148148148148148\n",
      "320 2916 0.8148148148148148\n",
      "330 2802 0.8148148148148148\n",
      "340 2709 0.8148148148148148\n",
      "350 2628 0.8148148148148148\n",
      "360 2533 0.8148148148148148\n",
      "370 2447 0.8148148148148148\n",
      "380 2368 0.8148148148148148\n",
      "390 2298 0.8148148148148148\n",
      "400 2232 0.7962962962962963\n",
      "410 2176 0.7777777777777778\n",
      "420 2115 0.7777777777777778\n",
      "430 2044 0.7962962962962963\n",
      "440 1995 0.7962962962962963\n",
      "450 1944 0.7962962962962963\n",
      "460 1890 0.7962962962962963\n",
      "470 1851 0.7962962962962963\n",
      "480 1811 0.7962962962962963\n",
      "490 1773 0.7962962962962963\n",
      "500 1734 0.7777777777777778\n"
     ]
    }
   ],
   "source": [
    "for i in range(10, 510, 10):\n",
    "    try:\n",
    "        WEASEL_transformer = WEASELMUSE(word_size=4, n_bins=3, window_sizes=[i for i in range(5, 100, 5)],\n",
    "                                        chi2_threshold=i, sparse=False)\n",
    "        WEASEL_classifier = LogisticRegression(solver='liblinear', multi_class='ovr')\n",
    "        \n",
    "        clf = make_pipeline(WEASEL_transformer, WEASEL_classifier)\n",
    "        clf.fit(X_train, y_train)\n",
    "        clf_score = clf.score(X_test, y_test)\n",
    "        print(i, len(WEASEL_transformer.vocabulary_), clf_score)\n",
    "        \n",
    "    except:\n",
    "        break"
   ],
   "metadata": {
    "collapsed": false,
    "ExecuteTime": {
     "end_time": "2023-12-22T03:05:40.446264500Z",
     "start_time": "2023-12-22T02:22:48.028197Z"
    }
   }
  },
  {
   "cell_type": "markdown",
   "source": [
    "##### Duża próbka"
   ],
   "metadata": {
    "collapsed": false
   }
  },
  {
   "cell_type": "code",
   "execution_count": 165,
   "outputs": [
    {
     "name": "stdout",
     "output_type": "stream",
     "text": [
      "(243, 4840900)\n",
      "4840900\n",
      "0.8703703703703703\n"
     ]
    }
   ],
   "source": [
    "WEASEL_transformer = WEASELMUSE(word_size=4, n_bins=3, window_sizes=[i for i in range(5, 500, 4)],\n",
    "                                chi2_threshold=2, sparse=False)\n",
    "WEASEL_classifier = LogisticRegression(solver='liblinear', multi_class='ovr')\n",
    "\n",
    "train_data = WEASEL_transformer.fit_transform(X_train, y_train)\n",
    "WEASEL_classifier.fit(train_data, y_train)\n",
    "\n",
    "print(train_data.shape)\n",
    "print(len(WEASEL_transformer.vocabulary_))\n",
    "\n",
    "test_data = WEASEL_transformer.transform(X_test)\n",
    "print(WEASEL_classifier.score(test_data, y_test))"
   ],
   "metadata": {
    "collapsed": false,
    "ExecuteTime": {
     "end_time": "2023-12-22T00:21:27.914851100Z",
     "start_time": "2023-12-22T00:15:05.866495600Z"
    }
   }
  },
  {
   "cell_type": "code",
   "execution_count": 32,
   "outputs": [
    {
     "name": "stdout",
     "output_type": "stream",
     "text": [
      "10 1041463 0.8703703703703703\n",
      "20 295097 0.8703703703703703\n",
      "30 153349 0.8703703703703703\n",
      "40 98877 0.8703703703703703\n",
      "50 68104 0.8703703703703703\n",
      "60 52461 0.8703703703703703\n",
      "70 41859 0.8703703703703703\n",
      "80 34129 0.8703703703703703\n",
      "90 28451 0.8703703703703703\n",
      "100 24457 0.8518518518518519\n",
      "110 21467 0.8518518518518519\n",
      "120 18876 0.8518518518518519\n",
      "130 16784 0.8518518518518519\n",
      "140 15166 0.8518518518518519\n",
      "150 13829 0.8518518518518519\n",
      "160 12611 0.8518518518518519\n",
      "170 11590 0.8333333333333334\n",
      "180 10679 0.8333333333333334\n",
      "190 9882 0.8333333333333334\n",
      "200 9132 0.8333333333333334\n",
      "210 8427 0.8333333333333334\n",
      "220 7850 0.8333333333333334\n",
      "230 7353 0.8333333333333334\n",
      "240 6907 0.8333333333333334\n",
      "250 6483 0.8333333333333334\n",
      "260 6121 0.8333333333333334\n",
      "270 5772 0.8333333333333334\n",
      "280 5465 0.8518518518518519\n",
      "290 5172 0.8518518518518519\n",
      "300 4919 0.8518518518518519\n",
      "310 4693 0.8518518518518519\n",
      "320 4488 0.8333333333333334\n",
      "330 4311 0.8333333333333334\n",
      "340 4138 0.8333333333333334\n",
      "350 3982 0.8518518518518519\n",
      "360 3841 0.8333333333333334\n",
      "370 3700 0.8333333333333334\n",
      "380 3598 0.8148148148148148\n",
      "390 3472 0.8148148148148148\n",
      "400 3359 0.8148148148148148\n",
      "410 3262 0.8148148148148148\n",
      "420 3172 0.8148148148148148\n",
      "430 3071 0.8148148148148148\n",
      "440 2999 0.8148148148148148\n",
      "450 2927 0.8148148148148148\n",
      "460 2841 0.7962962962962963\n",
      "470 2781 0.7962962962962963\n",
      "480 2724 0.7962962962962963\n",
      "490 2666 0.7962962962962963\n",
      "500 2599 0.7962962962962963\n"
     ]
    }
   ],
   "source": [
    "for i in range(10, 510, 10):\n",
    "    try:\n",
    "        WEASEL_transformer = WEASELMUSE(word_size=4, n_bins=3, window_sizes=[i for i in range(5, 500, 4)],\n",
    "                                        chi2_threshold=i, sparse=False)\n",
    "        WEASEL_classifier = LogisticRegression(solver='liblinear', multi_class='ovr')\n",
    "        \n",
    "        clf = make_pipeline(WEASEL_transformer, WEASEL_classifier)\n",
    "        clf.fit(X_train, y_train)\n",
    "        clf_score = clf.score(X_test, y_test)\n",
    "        print(i, len(WEASEL_transformer.vocabulary_), clf_score)\n",
    "        \n",
    "    except:\n",
    "        break"
   ],
   "metadata": {
    "collapsed": false,
    "ExecuteTime": {
     "end_time": "2023-12-22T05:42:28.571162900Z",
     "start_time": "2023-12-22T03:05:40.449265800Z"
    }
   }
  },
  {
   "cell_type": "code",
   "execution_count": 167,
   "outputs": [
    {
     "name": "stdout",
     "output_type": "stream",
     "text": [
      "(243, 596580)\n",
      "596580\n",
      "0.8703703703703703\n"
     ]
    }
   ],
   "source": [
    "WEASEL_transformer = WEASELMUSE(word_size=4, n_bins=3, window_sizes=[i for i in range(5, 500, 4)],\n",
    "                                chi2_threshold=15, sparse=False)\n",
    "WEASEL_classifier = LogisticRegression(solver='liblinear', multi_class='ovr')\n",
    "\n",
    "train_data = WEASEL_transformer.fit_transform(X_train, y_train)\n",
    "WEASEL_classifier.fit(train_data, y_train)\n",
    "\n",
    "print(train_data.shape)\n",
    "print(len(WEASEL_transformer.vocabulary_))\n",
    "\n",
    "test_data = WEASEL_transformer.transform(X_test)\n",
    "print(WEASEL_classifier.score(test_data, y_test))"
   ],
   "metadata": {
    "collapsed": false,
    "ExecuteTime": {
     "end_time": "2023-12-22T00:32:22.656412900Z",
     "start_time": "2023-12-22T00:28:38.993865600Z"
    }
   }
  },
  {
   "cell_type": "code",
   "execution_count": 169,
   "outputs": [
    {
     "name": "stdout",
     "output_type": "stream",
     "text": [
      "(243, 106015)\n",
      "106015\n",
      "0.8703703703703703\n"
     ]
    }
   ],
   "source": [
    "WEASEL_transformer = WEASELMUSE(word_size=4, n_bins=3, window_sizes=[i for i in range(5, 500, 4)],\n",
    "                                chi2_threshold=35, sparse=False)\n",
    "WEASEL_classifier = LogisticRegression(solver='liblinear', multi_class='ovr')\n",
    "\n",
    "train_data = WEASEL_transformer.fit_transform(X_train, y_train)\n",
    "WEASEL_classifier.fit(train_data, y_train)\n",
    "\n",
    "print(train_data.shape)\n",
    "print(len(WEASEL_transformer.vocabulary_))\n",
    "\n",
    "test_data = WEASEL_transformer.transform(X_test)\n",
    "print(WEASEL_classifier.score(test_data, y_test))"
   ],
   "metadata": {
    "collapsed": false,
    "ExecuteTime": {
     "end_time": "2023-12-22T00:49:12.319418300Z",
     "start_time": "2023-12-22T00:45:59.491999200Z"
    }
   }
  },
  {
   "cell_type": "code",
   "execution_count": 170,
   "outputs": [
    {
     "name": "stdout",
     "output_type": "stream",
     "text": [
      "(243, 37641)\n",
      "37641\n",
      "0.8703703703703703\n"
     ]
    }
   ],
   "source": [
    "WEASEL_transformer = WEASELMUSE(word_size=4, n_bins=3, window_sizes=[i for i in range(5, 500, 4)],\n",
    "                                chi2_threshold=70, sparse=False)\n",
    "WEASEL_classifier = LogisticRegression(solver='liblinear', multi_class='ovr')\n",
    "\n",
    "train_data = WEASEL_transformer.fit_transform(X_train, y_train)\n",
    "WEASEL_classifier.fit(train_data, y_train)\n",
    "\n",
    "print(train_data.shape)\n",
    "print(len(WEASEL_transformer.vocabulary_))\n",
    "\n",
    "test_data = WEASEL_transformer.transform(X_test)\n",
    "print(WEASEL_classifier.score(test_data, y_test))"
   ],
   "metadata": {
    "collapsed": false,
    "ExecuteTime": {
     "end_time": "2023-12-22T00:54:22.434205400Z",
     "start_time": "2023-12-22T00:51:18.476276400Z"
    }
   }
  },
  {
   "cell_type": "code",
   "execution_count": 171,
   "outputs": [
    {
     "name": "stdout",
     "output_type": "stream",
     "text": [
      "(243, 16636)\n",
      "16636\n",
      "0.9074074074074074\n"
     ]
    }
   ],
   "source": [
    "WEASEL_transformer = WEASELMUSE(word_size=4, n_bins=3, window_sizes=[i for i in range(5, 500, 4)],\n",
    "                                chi2_threshold=120, sparse=False)\n",
    "WEASEL_classifier = LogisticRegression(solver='liblinear', multi_class='ovr')\n",
    "\n",
    "train_data = WEASEL_transformer.fit_transform(X_train, y_train)\n",
    "WEASEL_classifier.fit(train_data, y_train)\n",
    "\n",
    "print(train_data.shape)\n",
    "print(len(WEASEL_transformer.vocabulary_))\n",
    "\n",
    "test_data = WEASEL_transformer.transform(X_test)\n",
    "print(WEASEL_classifier.score(test_data, y_test))"
   ],
   "metadata": {
    "collapsed": false,
    "ExecuteTime": {
     "end_time": "2023-12-22T00:59:30.267918300Z",
     "start_time": "2023-12-22T00:56:27.159762500Z"
    }
   }
  },
  {
   "cell_type": "markdown",
   "source": [
    "### Badanie dla wszystkich dostępnych długości okien \n",
    "(Chi kwadrat = 50)"
   ],
   "metadata": {
    "collapsed": false
   }
  },
  {
   "cell_type": "code",
   "execution_count": 33,
   "outputs": [
    {
     "ename": "ValueError",
     "evalue": "At least two consecutive quantiles are equal. Consider trying with a smaller number of bins or removing timestamps with low variation.",
     "output_type": "error",
     "traceback": [
      "\u001B[1;31m---------------------------------------------------------------------------\u001B[0m",
      "\u001B[1;31mValueError\u001B[0m                                Traceback (most recent call last)",
      "Cell \u001B[1;32mIn[33], line 5\u001B[0m\n\u001B[0;32m      1\u001B[0m WEASEL_transformer \u001B[38;5;241m=\u001B[39m WEASELMUSE(word_size\u001B[38;5;241m=\u001B[39m\u001B[38;5;241m4\u001B[39m, n_bins\u001B[38;5;241m=\u001B[39m\u001B[38;5;241m3\u001B[39m, window_sizes\u001B[38;5;241m=\u001B[39m[i \u001B[38;5;28;01mfor\u001B[39;00m i \u001B[38;5;129;01min\u001B[39;00m \u001B[38;5;28mrange\u001B[39m(\u001B[38;5;241m5\u001B[39m, \u001B[38;5;241m5000\u001B[39m, \u001B[38;5;241m1\u001B[39m)],\n\u001B[0;32m      2\u001B[0m                                 chi2_threshold\u001B[38;5;241m=\u001B[39m\u001B[38;5;241m50\u001B[39m, sparse\u001B[38;5;241m=\u001B[39m\u001B[38;5;28;01mFalse\u001B[39;00m)\n\u001B[0;32m      3\u001B[0m WEASEL_classifier \u001B[38;5;241m=\u001B[39m LogisticRegression(solver\u001B[38;5;241m=\u001B[39m\u001B[38;5;124m'\u001B[39m\u001B[38;5;124mliblinear\u001B[39m\u001B[38;5;124m'\u001B[39m, multi_class\u001B[38;5;241m=\u001B[39m\u001B[38;5;124m'\u001B[39m\u001B[38;5;124movr\u001B[39m\u001B[38;5;124m'\u001B[39m)\n\u001B[1;32m----> 5\u001B[0m train_data \u001B[38;5;241m=\u001B[39m \u001B[43mWEASEL_transformer\u001B[49m\u001B[38;5;241;43m.\u001B[39;49m\u001B[43mfit_transform\u001B[49m\u001B[43m(\u001B[49m\u001B[43mX_train\u001B[49m\u001B[43m,\u001B[49m\u001B[43m \u001B[49m\u001B[43my_train\u001B[49m\u001B[43m)\u001B[49m\n\u001B[0;32m      6\u001B[0m WEASEL_classifier\u001B[38;5;241m.\u001B[39mfit(train_data, y_train)\n\u001B[0;32m      7\u001B[0m \u001B[38;5;28mprint\u001B[39m(\u001B[38;5;28mlen\u001B[39m(WEASEL_transformer\u001B[38;5;241m.\u001B[39mvocabulary_))\n",
      "File \u001B[1;32m~\\Desktop\\PPD - Projekt\\sensorDataAnalysis\\env\\Lib\\site-packages\\pyts\\multivariate\\transformation\\weasel_muse.py:236\u001B[0m, in \u001B[0;36mWEASELMUSE.fit_transform\u001B[1;34m(self, X, y)\u001B[0m\n\u001B[0;32m    234\u001B[0m     \u001B[38;5;28mself\u001B[39m\u001B[38;5;241m.\u001B[39m_update_vocabulary(\u001B[38;5;28mstr\u001B[39m(i \u001B[38;5;241m+\u001B[39m \u001B[38;5;241m1\u001B[39m), transformer, original\u001B[38;5;241m=\u001B[39m\u001B[38;5;28;01mTrue\u001B[39;00m)\n\u001B[0;32m    235\u001B[0m \u001B[38;5;28;01mfor\u001B[39;00m i, transformer \u001B[38;5;129;01min\u001B[39;00m \u001B[38;5;28menumerate\u001B[39m(\u001B[38;5;28mself\u001B[39m\u001B[38;5;241m.\u001B[39m_estimators_diff):\n\u001B[1;32m--> 236\u001B[0m     X_new\u001B[38;5;241m.\u001B[39mappend(\u001B[43mtransformer\u001B[49m\u001B[38;5;241;43m.\u001B[39;49m\u001B[43mfit_transform\u001B[49m\u001B[43m(\u001B[49m\u001B[43mX_diff\u001B[49m\u001B[43m[\u001B[49m\u001B[43m:\u001B[49m\u001B[43m,\u001B[49m\u001B[43m \u001B[49m\u001B[43mi\u001B[49m\u001B[43m,\u001B[49m\u001B[43m \u001B[49m\u001B[43m:\u001B[49m\u001B[43m]\u001B[49m\u001B[43m,\u001B[49m\u001B[43m \u001B[49m\u001B[43my\u001B[49m\u001B[43m)\u001B[49m)\n\u001B[0;32m    237\u001B[0m     \u001B[38;5;28mself\u001B[39m\u001B[38;5;241m.\u001B[39m_update_vocabulary(\u001B[38;5;28mstr\u001B[39m(i \u001B[38;5;241m+\u001B[39m \u001B[38;5;241m1\u001B[39m), transformer, original\u001B[38;5;241m=\u001B[39m\u001B[38;5;28;01mFalse\u001B[39;00m)\n\u001B[0;32m    239\u001B[0m \u001B[38;5;28;01mif\u001B[39;00m \u001B[38;5;28mself\u001B[39m\u001B[38;5;241m.\u001B[39msparse:\n",
      "File \u001B[1;32m~\\Desktop\\PPD - Projekt\\sensorDataAnalysis\\env\\Lib\\site-packages\\pyts\\transformation\\weasel.py:280\u001B[0m, in \u001B[0;36mWEASEL.fit_transform\u001B[1;34m(self, X, y)\u001B[0m\n\u001B[0;32m    273\u001B[0m sfa \u001B[38;5;241m=\u001B[39m SymbolicFourierApproximation(\n\u001B[0;32m    274\u001B[0m     n_coefs\u001B[38;5;241m=\u001B[39m\u001B[38;5;28mself\u001B[39m\u001B[38;5;241m.\u001B[39mword_size, drop_sum\u001B[38;5;241m=\u001B[39m\u001B[38;5;28mself\u001B[39m\u001B[38;5;241m.\u001B[39mdrop_sum,\n\u001B[0;32m    275\u001B[0m     anova\u001B[38;5;241m=\u001B[39m\u001B[38;5;28mself\u001B[39m\u001B[38;5;241m.\u001B[39manova, norm_mean\u001B[38;5;241m=\u001B[39m\u001B[38;5;28mself\u001B[39m\u001B[38;5;241m.\u001B[39mnorm_mean,\n\u001B[0;32m    276\u001B[0m     norm_std\u001B[38;5;241m=\u001B[39m\u001B[38;5;28mself\u001B[39m\u001B[38;5;241m.\u001B[39mnorm_std, n_bins\u001B[38;5;241m=\u001B[39m\u001B[38;5;28mself\u001B[39m\u001B[38;5;241m.\u001B[39mn_bins,\n\u001B[0;32m    277\u001B[0m     strategy\u001B[38;5;241m=\u001B[39m\u001B[38;5;28mself\u001B[39m\u001B[38;5;241m.\u001B[39mstrategy, alphabet\u001B[38;5;241m=\u001B[39m\u001B[38;5;28mself\u001B[39m\u001B[38;5;241m.\u001B[39malphabet\n\u001B[0;32m    278\u001B[0m )\n\u001B[0;32m    279\u001B[0m y_repeated \u001B[38;5;241m=\u001B[39m np\u001B[38;5;241m.\u001B[39mrepeat(y, n_windows)\n\u001B[1;32m--> 280\u001B[0m X_sfa \u001B[38;5;241m=\u001B[39m \u001B[43msfa\u001B[49m\u001B[38;5;241;43m.\u001B[39;49m\u001B[43mfit_transform\u001B[49m\u001B[43m(\u001B[49m\u001B[43mX_windowed\u001B[49m\u001B[43m,\u001B[49m\u001B[43m \u001B[49m\u001B[43my_repeated\u001B[49m\u001B[43m)\u001B[49m\n\u001B[0;32m    282\u001B[0m X_word \u001B[38;5;241m=\u001B[39m np\u001B[38;5;241m.\u001B[39masarray([\u001B[38;5;124m'\u001B[39m\u001B[38;5;124m'\u001B[39m\u001B[38;5;241m.\u001B[39mjoin(X_sfa[i])\n\u001B[0;32m    283\u001B[0m                      \u001B[38;5;28;01mfor\u001B[39;00m i \u001B[38;5;129;01min\u001B[39;00m \u001B[38;5;28mrange\u001B[39m(n_samples \u001B[38;5;241m*\u001B[39m n_windows)])\n\u001B[0;32m    284\u001B[0m X_word \u001B[38;5;241m=\u001B[39m X_word\u001B[38;5;241m.\u001B[39mreshape(n_samples, n_windows)\n",
      "File \u001B[1;32m~\\Desktop\\PPD - Projekt\\sensorDataAnalysis\\env\\Lib\\site-packages\\pyts\\approximation\\sfa.py:173\u001B[0m, in \u001B[0;36mSymbolicFourierApproximation.fit_transform\u001B[1;34m(self, X, y)\u001B[0m\n\u001B[0;32m    169\u001B[0m mcb \u001B[38;5;241m=\u001B[39m MultipleCoefficientBinning(\n\u001B[0;32m    170\u001B[0m     n_bins\u001B[38;5;241m=\u001B[39m\u001B[38;5;28mself\u001B[39m\u001B[38;5;241m.\u001B[39mn_bins, strategy\u001B[38;5;241m=\u001B[39m\u001B[38;5;28mself\u001B[39m\u001B[38;5;241m.\u001B[39mstrategy, alphabet\u001B[38;5;241m=\u001B[39m\u001B[38;5;28mself\u001B[39m\u001B[38;5;241m.\u001B[39malphabet\n\u001B[0;32m    171\u001B[0m )\n\u001B[0;32m    172\u001B[0m \u001B[38;5;28mself\u001B[39m\u001B[38;5;241m.\u001B[39m_pipeline \u001B[38;5;241m=\u001B[39m Pipeline([(\u001B[38;5;124m'\u001B[39m\u001B[38;5;124mdft\u001B[39m\u001B[38;5;124m'\u001B[39m, dft), (\u001B[38;5;124m'\u001B[39m\u001B[38;5;124mmcb\u001B[39m\u001B[38;5;124m'\u001B[39m, mcb)])\n\u001B[1;32m--> 173\u001B[0m X_sfa \u001B[38;5;241m=\u001B[39m \u001B[38;5;28;43mself\u001B[39;49m\u001B[38;5;241;43m.\u001B[39;49m\u001B[43m_pipeline\u001B[49m\u001B[38;5;241;43m.\u001B[39;49m\u001B[43mfit_transform\u001B[49m\u001B[43m(\u001B[49m\u001B[43mX\u001B[49m\u001B[43m,\u001B[49m\u001B[43m \u001B[49m\u001B[43my\u001B[49m\u001B[43m)\u001B[49m\n\u001B[0;32m    174\u001B[0m \u001B[38;5;28mself\u001B[39m\u001B[38;5;241m.\u001B[39msupport_ \u001B[38;5;241m=\u001B[39m \u001B[38;5;28mself\u001B[39m\u001B[38;5;241m.\u001B[39m_pipeline\u001B[38;5;241m.\u001B[39mnamed_steps[\u001B[38;5;124m'\u001B[39m\u001B[38;5;124mdft\u001B[39m\u001B[38;5;124m'\u001B[39m]\u001B[38;5;241m.\u001B[39msupport_\n\u001B[0;32m    175\u001B[0m \u001B[38;5;28mself\u001B[39m\u001B[38;5;241m.\u001B[39mbin_edges_ \u001B[38;5;241m=\u001B[39m \u001B[38;5;28mself\u001B[39m\u001B[38;5;241m.\u001B[39m_pipeline\u001B[38;5;241m.\u001B[39mnamed_steps[\u001B[38;5;124m'\u001B[39m\u001B[38;5;124mmcb\u001B[39m\u001B[38;5;124m'\u001B[39m]\u001B[38;5;241m.\u001B[39mbin_edges_\n",
      "File \u001B[1;32m~\\Desktop\\PPD - Projekt\\sensorDataAnalysis\\env\\Lib\\site-packages\\sklearn\\base.py:1152\u001B[0m, in \u001B[0;36m_fit_context.<locals>.decorator.<locals>.wrapper\u001B[1;34m(estimator, *args, **kwargs)\u001B[0m\n\u001B[0;32m   1145\u001B[0m     estimator\u001B[38;5;241m.\u001B[39m_validate_params()\n\u001B[0;32m   1147\u001B[0m \u001B[38;5;28;01mwith\u001B[39;00m config_context(\n\u001B[0;32m   1148\u001B[0m     skip_parameter_validation\u001B[38;5;241m=\u001B[39m(\n\u001B[0;32m   1149\u001B[0m         prefer_skip_nested_validation \u001B[38;5;129;01mor\u001B[39;00m global_skip_validation\n\u001B[0;32m   1150\u001B[0m     )\n\u001B[0;32m   1151\u001B[0m ):\n\u001B[1;32m-> 1152\u001B[0m     \u001B[38;5;28;01mreturn\u001B[39;00m \u001B[43mfit_method\u001B[49m\u001B[43m(\u001B[49m\u001B[43mestimator\u001B[49m\u001B[43m,\u001B[49m\u001B[43m \u001B[49m\u001B[38;5;241;43m*\u001B[39;49m\u001B[43margs\u001B[49m\u001B[43m,\u001B[49m\u001B[43m \u001B[49m\u001B[38;5;241;43m*\u001B[39;49m\u001B[38;5;241;43m*\u001B[39;49m\u001B[43mkwargs\u001B[49m\u001B[43m)\u001B[49m\n",
      "File \u001B[1;32m~\\Desktop\\PPD - Projekt\\sensorDataAnalysis\\env\\Lib\\site-packages\\sklearn\\pipeline.py:479\u001B[0m, in \u001B[0;36mPipeline.fit_transform\u001B[1;34m(self, X, y, **fit_params)\u001B[0m\n\u001B[0;32m    477\u001B[0m fit_params_last_step \u001B[38;5;241m=\u001B[39m fit_params_steps[\u001B[38;5;28mself\u001B[39m\u001B[38;5;241m.\u001B[39msteps[\u001B[38;5;241m-\u001B[39m\u001B[38;5;241m1\u001B[39m][\u001B[38;5;241m0\u001B[39m]]\n\u001B[0;32m    478\u001B[0m \u001B[38;5;28;01mif\u001B[39;00m \u001B[38;5;28mhasattr\u001B[39m(last_step, \u001B[38;5;124m\"\u001B[39m\u001B[38;5;124mfit_transform\u001B[39m\u001B[38;5;124m\"\u001B[39m):\n\u001B[1;32m--> 479\u001B[0m     \u001B[38;5;28;01mreturn\u001B[39;00m \u001B[43mlast_step\u001B[49m\u001B[38;5;241;43m.\u001B[39;49m\u001B[43mfit_transform\u001B[49m\u001B[43m(\u001B[49m\u001B[43mXt\u001B[49m\u001B[43m,\u001B[49m\u001B[43m \u001B[49m\u001B[43my\u001B[49m\u001B[43m,\u001B[49m\u001B[43m \u001B[49m\u001B[38;5;241;43m*\u001B[39;49m\u001B[38;5;241;43m*\u001B[39;49m\u001B[43mfit_params_last_step\u001B[49m\u001B[43m)\u001B[49m\n\u001B[0;32m    480\u001B[0m \u001B[38;5;28;01melse\u001B[39;00m:\n\u001B[0;32m    481\u001B[0m     \u001B[38;5;28;01mreturn\u001B[39;00m last_step\u001B[38;5;241m.\u001B[39mfit(Xt, y, \u001B[38;5;241m*\u001B[39m\u001B[38;5;241m*\u001B[39mfit_params_last_step)\u001B[38;5;241m.\u001B[39mtransform(Xt)\n",
      "File \u001B[1;32m~\\Desktop\\PPD - Projekt\\sensorDataAnalysis\\env\\Lib\\site-packages\\pyts\\base.py:40\u001B[0m, in \u001B[0;36mUnivariateTransformerMixin.fit_transform\u001B[1;34m(self, X, y, **fit_params)\u001B[0m\n\u001B[0;32m     37\u001B[0m     \u001B[38;5;28;01mreturn\u001B[39;00m \u001B[38;5;28mself\u001B[39m\u001B[38;5;241m.\u001B[39mfit(X, \u001B[38;5;241m*\u001B[39m\u001B[38;5;241m*\u001B[39mfit_params)\u001B[38;5;241m.\u001B[39mtransform(X)\n\u001B[0;32m     38\u001B[0m \u001B[38;5;28;01melse\u001B[39;00m:\n\u001B[0;32m     39\u001B[0m     \u001B[38;5;66;03m# fit method of arity 2 (supervised transformation)\u001B[39;00m\n\u001B[1;32m---> 40\u001B[0m     \u001B[38;5;28;01mreturn\u001B[39;00m \u001B[38;5;28;43mself\u001B[39;49m\u001B[38;5;241;43m.\u001B[39;49m\u001B[43mfit\u001B[49m\u001B[43m(\u001B[49m\u001B[43mX\u001B[49m\u001B[43m,\u001B[49m\u001B[43m \u001B[49m\u001B[43my\u001B[49m\u001B[43m,\u001B[49m\u001B[43m \u001B[49m\u001B[38;5;241;43m*\u001B[39;49m\u001B[38;5;241;43m*\u001B[39;49m\u001B[43mfit_params\u001B[49m\u001B[43m)\u001B[49m\u001B[38;5;241m.\u001B[39mtransform(X)\n",
      "File \u001B[1;32m~\\Desktop\\PPD - Projekt\\sensorDataAnalysis\\env\\Lib\\site-packages\\pyts\\approximation\\mcb.py:131\u001B[0m, in \u001B[0;36mMultipleCoefficientBinning.fit\u001B[1;34m(self, X, y)\u001B[0m\n\u001B[0;32m    129\u001B[0m \u001B[38;5;28mself\u001B[39m\u001B[38;5;241m.\u001B[39m_alphabet \u001B[38;5;241m=\u001B[39m \u001B[38;5;28mself\u001B[39m\u001B[38;5;241m.\u001B[39m_check_params(n_samples)\n\u001B[0;32m    130\u001B[0m \u001B[38;5;28mself\u001B[39m\u001B[38;5;241m.\u001B[39m_check_constant(X)\n\u001B[1;32m--> 131\u001B[0m \u001B[38;5;28mself\u001B[39m\u001B[38;5;241m.\u001B[39mbin_edges_ \u001B[38;5;241m=\u001B[39m \u001B[38;5;28;43mself\u001B[39;49m\u001B[38;5;241;43m.\u001B[39;49m\u001B[43m_compute_bins\u001B[49m\u001B[43m(\u001B[49m\n\u001B[0;32m    132\u001B[0m \u001B[43m    \u001B[49m\u001B[43mX\u001B[49m\u001B[43m,\u001B[49m\u001B[43m \u001B[49m\u001B[43my\u001B[49m\u001B[43m,\u001B[49m\u001B[43m \u001B[49m\u001B[43mn_timestamps\u001B[49m\u001B[43m,\u001B[49m\u001B[43m \u001B[49m\u001B[38;5;28;43mself\u001B[39;49m\u001B[38;5;241;43m.\u001B[39;49m\u001B[43mn_bins\u001B[49m\u001B[43m,\u001B[49m\u001B[43m \u001B[49m\u001B[38;5;28;43mself\u001B[39;49m\u001B[38;5;241;43m.\u001B[39;49m\u001B[43mstrategy\u001B[49m\u001B[43m)\u001B[49m\n\u001B[0;32m    133\u001B[0m \u001B[38;5;28;01mreturn\u001B[39;00m \u001B[38;5;28mself\u001B[39m\n",
      "File \u001B[1;32m~\\Desktop\\PPD - Projekt\\sensorDataAnalysis\\env\\Lib\\site-packages\\pyts\\approximation\\mcb.py:211\u001B[0m, in \u001B[0;36mMultipleCoefficientBinning._compute_bins\u001B[1;34m(self, X, y, n_timestamps, n_bins, strategy)\u001B[0m\n\u001B[0;32m    207\u001B[0m     bins_edges \u001B[38;5;241m=\u001B[39m np\u001B[38;5;241m.\u001B[39mpercentile(\n\u001B[0;32m    208\u001B[0m         X, np\u001B[38;5;241m.\u001B[39mlinspace(\u001B[38;5;241m0\u001B[39m, \u001B[38;5;241m100\u001B[39m, \u001B[38;5;28mself\u001B[39m\u001B[38;5;241m.\u001B[39mn_bins \u001B[38;5;241m+\u001B[39m \u001B[38;5;241m1\u001B[39m)[\u001B[38;5;241m1\u001B[39m:\u001B[38;5;241m-\u001B[39m\u001B[38;5;241m1\u001B[39m], axis\u001B[38;5;241m=\u001B[39m\u001B[38;5;241m0\u001B[39m\n\u001B[0;32m    209\u001B[0m     )\u001B[38;5;241m.\u001B[39mT\n\u001B[0;32m    210\u001B[0m     \u001B[38;5;28;01mif\u001B[39;00m np\u001B[38;5;241m.\u001B[39many(np\u001B[38;5;241m.\u001B[39mdiff(bins_edges, axis\u001B[38;5;241m=\u001B[39m\u001B[38;5;241m0\u001B[39m) \u001B[38;5;241m==\u001B[39m \u001B[38;5;241m0\u001B[39m):\n\u001B[1;32m--> 211\u001B[0m         \u001B[38;5;28;01mraise\u001B[39;00m \u001B[38;5;167;01mValueError\u001B[39;00m(\n\u001B[0;32m    212\u001B[0m             \u001B[38;5;124m\"\u001B[39m\u001B[38;5;124mAt least two consecutive quantiles are equal. \u001B[39m\u001B[38;5;124m\"\u001B[39m\n\u001B[0;32m    213\u001B[0m             \u001B[38;5;124m\"\u001B[39m\u001B[38;5;124mConsider trying with a smaller number of bins or \u001B[39m\u001B[38;5;124m\"\u001B[39m\n\u001B[0;32m    214\u001B[0m             \u001B[38;5;124m\"\u001B[39m\u001B[38;5;124mremoving timestamps with low variation.\u001B[39m\u001B[38;5;124m\"\u001B[39m\n\u001B[0;32m    215\u001B[0m         )\n\u001B[0;32m    216\u001B[0m \u001B[38;5;28;01melse\u001B[39;00m:\n\u001B[0;32m    217\u001B[0m     bins_edges \u001B[38;5;241m=\u001B[39m \u001B[38;5;28mself\u001B[39m\u001B[38;5;241m.\u001B[39m_entropy_bins(X, y, n_timestamps, n_bins)\n",
      "\u001B[1;31mValueError\u001B[0m: At least two consecutive quantiles are equal. Consider trying with a smaller number of bins or removing timestamps with low variation."
     ]
    }
   ],
   "source": [
    "WEASEL_transformer = WEASELMUSE(word_size=4, n_bins=3, window_sizes=[i for i in range(5, 5000, 1)],\n",
    "                                chi2_threshold=50, sparse=False)\n",
    "WEASEL_classifier = LogisticRegression(solver='liblinear', multi_class='ovr')\n",
    "\n",
    "train_data = WEASEL_transformer.fit_transform(X_train, y_train)\n",
    "WEASEL_classifier.fit(train_data, y_train)\n",
    "print(len(WEASEL_transformer.vocabulary_))\n",
    "\n",
    "test_data = WEASEL_transformer.transform(X_test)\n",
    "print(WEASEL_classifier.score(test_data, y_test))"
   ],
   "metadata": {
    "collapsed": false,
    "ExecuteTime": {
     "end_time": "2023-12-22T07:14:22.773617300Z",
     "start_time": "2023-12-22T05:42:28.551164600Z"
    }
   }
  },
  {
   "cell_type": "markdown",
   "source": [
    "### Wizualizacja słów ze słownika symboli (dla osoby nr 026)\n",
    "\n",
    "(Wymaga wyselekcjonowania charakterystycznych cech -> tendencyjność)"
   ],
   "metadata": {
    "collapsed": false
   }
  },
  {
   "cell_type": "code",
   "execution_count": 66,
   "outputs": [
    {
     "name": "stdout",
     "output_type": "stream",
     "text": [
      "18442\n",
      "0        False\n",
      "1        False\n",
      "2        False\n",
      "3        False\n",
      "4        False\n",
      "         ...  \n",
      "18437     True\n",
      "18438     True\n",
      "18439     True\n",
      "18440     True\n",
      "18441    False\n",
      "Length: 18442, dtype: bool\n",
      "Index([   16,    28,    29,    30,    37,    38,    39,    40,    44,    55,\n",
      "       ...\n",
      "       18429, 18430, 18431, 18433, 18434, 18435, 18437, 18438, 18439, 18440],\n",
      "      dtype='int64', length=4939)\n"
     ]
    },
    {
     "ename": "ValueError",
     "evalue": "The truth value of a Series is ambiguous. Use a.empty, a.bool(), a.item(), a.any() or a.all().",
     "output_type": "error",
     "traceback": [
      "\u001B[1;31m---------------------------------------------------------------------------\u001B[0m",
      "\u001B[1;31mValueError\u001B[0m                                Traceback (most recent call last)",
      "\u001B[1;32m~\\AppData\\Local\\Temp\\ipykernel_24704\\4064220588.py\u001B[0m in \u001B[0;36m?\u001B[1;34m()\u001B[0m\n\u001B[0;32m      9\u001B[0m \u001B[0mprint\u001B[0m \u001B[1;33m(\u001B[0m\u001B[0mm2\u001B[0m\u001B[1;33m)\u001B[0m\u001B[1;33m\u001B[0m\u001B[1;33m\u001B[0m\u001B[0m\n\u001B[0;32m     10\u001B[0m \u001B[0ma\u001B[0m \u001B[1;33m=\u001B[0m \u001B[0mm2\u001B[0m\u001B[1;33m.\u001B[0m\u001B[0mindex\u001B[0m\u001B[1;33m[\u001B[0m\u001B[0mm2\u001B[0m\u001B[1;33m]\u001B[0m\u001B[1;33m\u001B[0m\u001B[1;33m\u001B[0m\u001B[0m\n\u001B[0;32m     11\u001B[0m \u001B[0mprint\u001B[0m \u001B[1;33m(\u001B[0m\u001B[0ma\u001B[0m\u001B[1;33m)\u001B[0m\u001B[1;33m\u001B[0m\u001B[1;33m\u001B[0m\u001B[0m\n\u001B[0;32m     12\u001B[0m \u001B[1;33m\u001B[0m\u001B[0m\n\u001B[1;32m---> 13\u001B[1;33m \u001B[0mtable\u001B[0m\u001B[1;33m[\u001B[0m\u001B[0my_train\u001B[0m \u001B[1;33m==\u001B[0m \u001B[1;36m0\u001B[0m\u001B[1;33m,\u001B[0m \u001B[1;33m[\u001B[0m\u001B[0mi\u001B[0m \u001B[1;32mfor\u001B[0m \u001B[0mi\u001B[0m \u001B[1;32min\u001B[0m \u001B[0mtable\u001B[0m\u001B[1;33m.\u001B[0m\u001B[0mcolumns\u001B[0m \u001B[1;32mif\u001B[0m \u001B[0mtable\u001B[0m\u001B[1;33m[\u001B[0m\u001B[1;33m(\u001B[0m\u001B[0my_train\u001B[0m \u001B[1;33m==\u001B[0m \u001B[1;36m0\u001B[0m\u001B[1;33m)\u001B[0m \u001B[1;33m&\u001B[0m \u001B[1;33m(\u001B[0m\u001B[0mtable\u001B[0m\u001B[1;33m[\u001B[0m\u001B[0mi\u001B[0m\u001B[1;33m]\u001B[0m \u001B[1;33m>\u001B[0m \u001B[1;36m0\u001B[0m\u001B[1;33m)\u001B[0m\u001B[1;33m]\u001B[0m\u001B[1;33m.\u001B[0m\u001B[0mcount\u001B[0m\u001B[1;33m(\u001B[0m\u001B[1;33m)\u001B[0m \u001B[1;33m>\u001B[0m \u001B[1;36m0\u001B[0m\u001B[1;33m]\u001B[0m\u001B[1;33m]\u001B[0m\u001B[1;33m.\u001B[0m\u001B[0mshape\u001B[0m\u001B[1;33m\u001B[0m\u001B[1;33m\u001B[0m\u001B[0m\n\u001B[0m\u001B[0;32m     14\u001B[0m \u001B[0mprint\u001B[0m\u001B[1;33m(\u001B[0m\u001B[0mtrain_data\u001B[0m\u001B[1;33m[\u001B[0m\u001B[0my_train\u001B[0m \u001B[1;33m==\u001B[0m \u001B[1;36m0\u001B[0m\u001B[1;33m,\u001B[0m \u001B[1;33m]\u001B[0m\u001B[1;33m)\u001B[0m\u001B[1;33m\u001B[0m\u001B[1;33m\u001B[0m\u001B[0m\n\u001B[0;32m     15\u001B[0m \u001B[1;33m\u001B[0m\u001B[0m\n\u001B[0;32m     16\u001B[0m \u001B[1;31m# plt.figure(figsize=(20, 6))\u001B[0m\u001B[1;33m\u001B[0m\u001B[1;33m\u001B[0m\u001B[0m\n",
      "\u001B[1;32m~\\AppData\\Local\\Temp\\ipykernel_24704\\4064220588.py\u001B[0m in \u001B[0;36m?\u001B[1;34m(.0)\u001B[0m\n\u001B[1;32m---> 13\u001B[1;33m \u001B[1;31m# Visualize the transformation for the first time series (positive values only)\u001B[0m\u001B[1;33m\u001B[0m\u001B[1;33m\u001B[0m\u001B[0m\n\u001B[0m",
      "\u001B[1;32m~\\Desktop\\PPD - Projekt\\sensorDataAnalysis\\env\\Lib\\site-packages\\pandas\\core\\generic.py\u001B[0m in \u001B[0;36m?\u001B[1;34m(self)\u001B[0m\n\u001B[0;32m   1517\u001B[0m     \u001B[1;33m@\u001B[0m\u001B[0mfinal\u001B[0m\u001B[1;33m\u001B[0m\u001B[1;33m\u001B[0m\u001B[0m\n\u001B[0;32m   1518\u001B[0m     \u001B[1;32mdef\u001B[0m \u001B[0m__nonzero__\u001B[0m\u001B[1;33m(\u001B[0m\u001B[0mself\u001B[0m\u001B[1;33m)\u001B[0m \u001B[1;33m->\u001B[0m \u001B[0mNoReturn\u001B[0m\u001B[1;33m:\u001B[0m\u001B[1;33m\u001B[0m\u001B[1;33m\u001B[0m\u001B[0m\n\u001B[1;32m-> 1519\u001B[1;33m         raise ValueError(\n\u001B[0m\u001B[0;32m   1520\u001B[0m             \u001B[1;34mf\"The truth value of a {type(self).__name__} is ambiguous. \"\u001B[0m\u001B[1;33m\u001B[0m\u001B[1;33m\u001B[0m\u001B[0m\n\u001B[0;32m   1521\u001B[0m             \u001B[1;34m\"Use a.empty, a.bool(), a.item(), a.any() or a.all().\"\u001B[0m\u001B[1;33m\u001B[0m\u001B[1;33m\u001B[0m\u001B[0m\n\u001B[0;32m   1522\u001B[0m         )\n",
      "\u001B[1;31mValueError\u001B[0m: The truth value of a Series is ambiguous. Use a.empty, a.bool(), a.item(), a.any() or a.all()."
     ]
    }
   ],
   "source": [
    "# vocabulary_length = len(WEASEL_transformer.vocabulary_)\n",
    "# print(vocabulary_length)\n",
    "# width = 0.3\n",
    "\n",
    "# table = pd.DataFrame(train_data)\n",
    "# m2 = (table[y_train == 0]).any()\n",
    "# print (m2)\n",
    "# a = m2.index[m2]\n",
    "# print (a)\n",
    "# \n",
    "# table[y_train == 0, [i for i in table.columns if table[(y_train == 0) & (table[i] > 0)].count() > 0]].shape\n",
    "# print(train_data[y_train == 0, ])\n",
    "\n",
    "# plt.figure(figsize=(20, 6))\n",
    "# for cls in range(len(le.classes_)):\n",
    "#     plt.bar(np.arange(vocabulary_length) - width / 2, train_data[y_train == 0][0],\n",
    "#         width=width, label='First time series in class 0')\n",
    "# plt.bar(np.arange(vocabulary_length) - width / 2, train_data[y_train == 0][0],\n",
    "#         width=width, label='First time series in class 0')\n",
    "# plt.bar(np.arange(vocabulary_length) + width / 2, train_data[y_train == 1][0],\n",
    "#         width=width, label='First time series in class 1')\n",
    "# \n",
    "# plt.xticks(np.arange(vocabulary_length),\n",
    "#            np.vectorize(WEASEL_transformer.vocabulary_.get)(\n",
    "#                np.arange(train_data[0].size)),\n",
    "#            fontsize=12, rotation=60, ha='right')\n",
    "# y_max = np.max(np.concatenate([train_data[y_train == 0][0],\n",
    "#                                train_data[y_train == 1][0]]))\n",
    "# \n",
    "# plt.yticks(np.arange(y_max + 1), fontsize=12)\n",
    "# plt.xlabel(\"Words\", fontsize=14)\n",
    "# plt.ylabel(\"Frequencies\", fontsize=14)\n",
    "# plt.title(\"WEASEL+MUSE transformation\", fontsize=16)\n",
    "# plt.legend(loc='best', fontsize=10)\n",
    "# \n",
    "# plt.subplots_adjust(bottom=0.27)\n",
    "# plt.tight_layout()\n",
    "# plt.show()"
   ],
   "metadata": {
    "collapsed": false,
    "ExecuteTime": {
     "end_time": "2023-12-21T21:59:16.788850700Z",
     "start_time": "2023-12-21T21:59:16.719357400Z"
    }
   }
  },
  {
   "cell_type": "markdown",
   "source": [
    "### Wizualizacja badań Chi kwadrat"
   ],
   "metadata": {
    "collapsed": false
   }
  },
  {
   "cell_type": "markdown",
   "source": [
    "### Badanie niezalecanych metod regresji"
   ],
   "metadata": {
    "collapsed": false
   }
  },
  {
   "cell_type": "markdown",
   "source": [
    "### Badanie wielkości słowników\n",
    "\n",
    "Możliwe tylko dla dużych próbek"
   ],
   "metadata": {
    "collapsed": false
   }
  },
  {
   "cell_type": "markdown",
   "source": [
    "### Ostateczne badanie (z użyciem zbioru walidacyjnego)"
   ],
   "metadata": {
    "collapsed": false
   }
  },
  {
   "cell_type": "code",
   "execution_count": null,
   "outputs": [],
   "source": [
    " "
   ],
   "metadata": {
    "collapsed": false
   }
  }
 ],
 "metadata": {
  "kernelspec": {
   "display_name": "Python 3",
   "language": "python",
   "name": "python3"
  },
  "language_info": {
   "codemirror_mode": {
    "name": "ipython",
    "version": 3
   },
   "file_extension": ".py",
   "mimetype": "text/x-python",
   "name": "python",
   "nbconvert_exporter": "python",
   "pygments_lexer": "ipython3",
   "version": "3.8.6"
  }
 },
 "nbformat": 4,
 "nbformat_minor": 0
}
